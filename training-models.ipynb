{
 "cells": [
  {
   "cell_type": "markdown",
   "id": "366fcf32-6a02-41ae-8bc1-7664459acdb1",
   "metadata": {},
   "source": [
    "### Linear Regressions\n",
    "\n",
    "> Linear regression is a supervised machine-learning algorithm.\n",
    "> ...\n",
    "> Supervised machine-learning algorithms learn from the labeled datasets and map the data points to the most optimized linear functions.\n",
    "> ...\n",
    "> Regression predicts the continuous output variables based on the independent input variable.\n",
    "> Example: the prediction of house prices based on different parameters like house age, distance from the main road, location, area, etc.\n",
    "\n",
    "https://www.geeksforgeeks.org/ml-linear-regression/\n",
    "\n",
    "> A linear model makes a prediction by simply computing a weighted sum of the input features, plus a constant called the bias term (also called the intercept term), as shown in Equation 4-1.\n",
    "\n",
    "hands-on-machine-learning\n",
    "\n",
    "Example: \n",
    "```\n",
    "life_satisfaction = θ0 + θ1 × GDP_per_capita\n",
    "This model is just a linear function of the input feature GDP_per_capita. θ0 and θ1 are the model’s parameters.\n",
    "```\n",
    "\n",
    "> The most common performance measure of a regression model is the root mean square error.\n",
    "\n",
    "hands-on-machine-learning\n",
    "\n",
    "> What Is Cost Function of Linear Regression?\n",
    "> Cost function measures the performance of a machine learning model for a data set.\n",
    "> Cost function quantifies the error between predicted and expected values and presents that error in the form of a single real number.\n",
    "\n",
    "https://builtin.com/machine-learning/cost-function\n",
    "\n",
    "\n",
    "#### Video References\n",
    "- [What is Linear Regression in Machine Learning ? Understand with Examples!](https://www.youtube.com/watch?v=nwD5U2WxTdk)"
   ]
  }
 ],
 "metadata": {
  "kernelspec": {
   "display_name": "Python 3 (ipykernel)",
   "language": "python",
   "name": "python3"
  },
  "language_info": {
   "codemirror_mode": {
    "name": "ipython",
    "version": 3
   },
   "file_extension": ".py",
   "mimetype": "text/x-python",
   "name": "python",
   "nbconvert_exporter": "python",
   "pygments_lexer": "ipython3",
   "version": "3.13.0"
  }
 },
 "nbformat": 4,
 "nbformat_minor": 5
}
