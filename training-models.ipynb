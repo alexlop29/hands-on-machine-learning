{
 "cells": [
  {
   "cell_type": "markdown",
   "id": "366fcf32-6a02-41ae-8bc1-7664459acdb1",
   "metadata": {},
   "source": [
    "### Linear Regressions\n",
    "\n",
    "> Linear regression is a supervised machine-learning algorithm.\n",
    "> ...\n",
    "> Supervised machine-learning algorithms learn from the labeled datasets and map the data points to the most optimized linear functions.\n",
    "> ...\n",
    "> Regression predicts the continuous output variables based on the independent input variable.\n",
    "> Example: the prediction of house prices based on different parameters like house age, distance from the main road, location, area, etc.\n",
    "\n",
    "https://www.geeksforgeeks.org/ml-linear-regression/\n",
    "\n",
    "> A linear model makes a prediction by simply computing a weighted sum of the input features, plus a constant called the bias term (also called the intercept term), as shown in Equation 4-1.\n",
    "\n",
    "hands-on-machine-learning\n",
    "\n",
    "Example: \n",
    "```\n",
    "life_satisfaction = θ0 + θ1 × GDP_per_capita\n",
    "This model is just a linear function of the input feature GDP_per_capita. θ0 and θ1 are the model’s parameters.\n",
    "```\n",
    "\n",
    "> The most common performance measure of a regression model is the root mean square error.\n",
    "\n",
    "hands-on-machine-learning\n",
    "\n",
    "> What Is Cost Function of Linear Regression?\n",
    "> Cost function measures the performance of a machine learning model for a data set.\n",
    "> Cost function quantifies the error between predicted and expected values and presents that error in the form of a single real number.\n",
    "\n",
    "https://builtin.com/machine-learning/cost-function\n",
    "\n",
    "\n",
    "#### Video References\n",
    "- [What is Linear Regression in Machine Learning ? Understand with Examples!](https://www.youtube.com/watch?v=nwD5U2WxTdk)"
   ]
  },
  {
   "cell_type": "markdown",
   "id": "09a17330-446d-4d88-888a-c7e5b8b7dcc5",
   "metadata": {},
   "source": [
    "> MSE measures the average squared difference between an observation’s actual and predicted values. The output is a single number representing the cost, or score, associated with our current set of weights. Our goal is to minimize MSE to improve the accuracy of our model.\n",
    "\n",
    "https://ml-cheatsheet.readthedocs.io/en/latest/linear_regression.html#:~:text=Cost%20function,-The%20prediction%20function&text=MSE%20measures%20the%20average%20squared,the%20accuracy%20of%20our%20model.\n",
    "\n",
    "> To find the value of θ that minimizes the MSE, there exists a closed-form solution—in other words, a mathematical equation that gives the result directly. This is called the Normal equation."
   ]
  },
  {
   "cell_type": "code",
   "execution_count": 3,
   "id": "00badad0-021a-4794-be8e-c2fa2bb041cc",
   "metadata": {},
   "outputs": [
    {
     "name": "stdout",
     "output_type": "stream",
     "text": [
      "m 100\n",
      "X [[0.74908024]\n",
      " [1.90142861]\n",
      " [1.46398788]\n",
      " [1.19731697]\n",
      " [0.31203728]\n",
      " [0.31198904]\n",
      " [0.11616722]\n",
      " [1.73235229]\n",
      " [1.20223002]\n",
      " [1.41614516]]\n",
      "Y [[5.58520754]\n",
      " [7.50384988]\n",
      " [7.01973654]\n",
      " [4.40706502]\n",
      " [4.40440267]\n",
      " [4.98109065]\n",
      " [5.71022849]\n",
      " [6.94643436]\n",
      " [5.59596644]\n",
      " [6.33053327]]\n"
     ]
    }
   ],
   "source": [
    "import numpy as np\n",
    "\n",
    "np.random.seed(42) # make the code reproducible\n",
    "\"\"\"\n",
    "older syntax ?  - Numpy now recommends using a dedicated Generator instance\n",
    "See: https://numpy.org/doc/2.0/reference/random/generated/numpy.random.seed.html\n",
    "\n",
    "use case: https://stackoverflow.com/questions/21494489/what-does-numpy-random-seed0-do\n",
    "With the seed reset (every time), the same set of numbers will appear every time.\n",
    "If the random seed is not reset, different numbers appear with every invocation:\n",
    "\n",
    "\"Setting the seed for reproduce work\" means to initialize a random number generator\n",
    "with a specific value, ensuring that whenever you run your code, the same sequence of\n",
    "random numbers is generated, allowing you to precisely replicate your results and make\n",
    "your work reproducible\n",
    "Google AI\n",
    "\"\"\" \n",
    "\n",
    "m = 100 # num of instances\n",
    "X = 2 * np.random.rand(m, 1) # column vector\n",
    "Y = 4 + 2 * X + np.random.randn(m, 1) # column vector\n",
    "\n",
    "print(\"m\", m)\n",
    "print(\"X\", X[:10])\n",
    "print(\"Y\", Y[:10])"
   ]
  },
  {
   "cell_type": "markdown",
   "id": "9a66922a-533d-4198-aa74-1a206a1abae7",
   "metadata": {},
   "source": [
    "Now let’s compute 𝛉 using the Normal equation. We will use the inv() function from NumPy’s linear algebra module (np.linalg) to compute the inverse of a matrix, and the dot() method for matrix multiplication:"
   ]
  },
  {
   "cell_type": "code",
   "execution_count": 9,
   "id": "918189a3-2c84-40be-8ff4-63534489322d",
   "metadata": {},
   "outputs": [
    {
     "name": "stdout",
     "output_type": "stream",
     "text": [
      "m 100\n",
      "X [[0.74908024]\n",
      " [1.90142861]\n",
      " [1.46398788]\n",
      " [1.19731697]\n",
      " [0.31203728]\n",
      " [0.31198904]\n",
      " [0.11616722]\n",
      " [1.73235229]\n",
      " [1.20223002]\n",
      " [1.41614516]]\n",
      "y [[5.58520754]\n",
      " [7.50384988]\n",
      " [7.01973654]\n",
      " [4.40706502]\n",
      " [4.40440267]\n",
      " [4.98109065]\n",
      " [5.71022849]\n",
      " [6.94643436]\n",
      " [5.59596644]\n",
      " [6.33053327]]\n",
      "X_b [[1.         0.74908024]\n",
      " [1.         1.90142861]\n",
      " [1.         1.46398788]\n",
      " [1.         1.19731697]\n",
      " [1.         0.31203728]\n",
      " [1.         0.31198904]\n",
      " [1.         0.11616722]\n",
      " [1.         1.73235229]\n",
      " [1.         1.20223002]\n",
      " [1.         1.41614516]]\n",
      "theta_best [[4.21509616]\n",
      " [1.77011339]]\n"
     ]
    }
   ],
   "source": [
    "import numpy as np\n",
    "\n",
    "# new imports\n",
    "from sklearn.preprocessing import add_dummy_feature\n",
    "\"\"\"\n",
    "sklearn.preprocessing.add_dummy_feature(X, value=1.0)\n",
    "Augment dataset with an additional dummy feature.\n",
    "This is useful for fitting an intercept term with implementations which cannot otherwise fit it directly.\n",
    "https://scikit-learn.org/stable/modules/generated/sklearn.preprocessing.add_dummy_feature.html\n",
    "\"\"\"\n",
    "\n",
    "np.random.seed(42)\n",
    "m = 100\n",
    "X = 2 * np.random.rand(m ,1)\n",
    "y = 4 + 2 * X + np.random.randn(m, 1)\n",
    "\n",
    "\"\"\"\n",
    "Understanding the Linear Model\n",
    "In a linear regression setting, the relationship between X and Y is often modeled as:\n",
    "\n",
    "Y = β₀ + β₁X + ε\n",
    "\n",
    "Where:\n",
    "β₀ (4): The intercept, representing the value of Y when X = 0.\n",
    "β₁ (2): The slope of the line, representing the rate of change of Y with respect to X.\n",
    "ε (random noise): Represents random variation or \"noise\" that is added to\n",
    "make the data more realistic.\n",
    "Chat GPT Example\n",
    "\"\"\"\n",
    "\n",
    "X_b = add_dummy_feature(X)\n",
    "\"\"\"\n",
    "Understand the purpose of X_b\n",
    "The function sklearn.preprocessing.add_dummy_feature adds a column of constant values (typically 1.0)\n",
    "to a feature matrix X. This dummy column is often used to account for the intercept term in a linear\n",
    "regression model.\n",
    "\n",
    "X= \n",
    "0.5\n",
    "1.2\n",
    "0.8\n",
    "\n",
    "X b\t=  \n",
    "1 0.5\n",
    "1 1.2\n",
    "1 0.8\n",
    "Chat GPT\n",
    "\"\"\"\n",
    "\n",
    "theta_best = np.linalg.inv(X_b.T @ X_b) @ X_b.T @ y\n",
    "\"\"\"\n",
    "numpy.linalg.inv\n",
    "Compute the inverse of a matrix\n",
    "https://numpy.org/doc/stable/reference/generated/numpy.linalg.inv.html\n",
    "\n",
    "Matrix: a data structure composed of rows and columns\n",
    "https://www.lenovo.com › outletus › glossary › matrix\n",
    "\"\"\"\n",
    "\n",
    "print(\"m\", m)\n",
    "print(\"X\", X[:10])\n",
    "print(\"y\", y[:10])\n",
    "print(\"X_b\", X_b[:10])\n",
    "print(\"theta_best\", theta_best[:10])"
   ]
  },
  {
   "cell_type": "code",
   "execution_count": 1,
   "id": "5305bdf1-d014-45a0-b89f-2fb21726021c",
   "metadata": {},
   "outputs": [
    {
     "name": "stdout",
     "output_type": "stream",
     "text": [
      "m 100\n",
      "X [[0.74908024]\n",
      " [1.90142861]\n",
      " [1.46398788]\n",
      " [1.19731697]\n",
      " [0.31203728]\n",
      " [0.31198904]\n",
      " [0.11616722]\n",
      " [1.73235229]\n",
      " [1.20223002]\n",
      " [1.41614516]]\n",
      "y [[5.58520754]\n",
      " [7.50384988]\n",
      " [7.01973654]\n",
      " [4.40706502]\n",
      " [4.40440267]\n",
      " [4.98109065]\n",
      " [5.71022849]\n",
      " [6.94643436]\n",
      " [5.59596644]\n",
      " [6.33053327]]\n",
      "X_b [[1.         0.74908024]\n",
      " [1.         1.90142861]\n",
      " [1.         1.46398788]\n",
      " [1.         1.19731697]\n",
      " [1.         0.31203728]\n",
      " [1.         0.31198904]\n",
      " [1.         0.11616722]\n",
      " [1.         1.73235229]\n",
      " [1.         1.20223002]\n",
      " [1.         1.41614516]]\n",
      "theta_best [[4.21509616]\n",
      " [1.77011339]]\n",
      "y_predict [[4.21509616]\n",
      " [7.75532293]]\n"
     ]
    }
   ],
   "source": [
    "import numpy as np\n",
    "\n",
    "# new imports\n",
    "from sklearn.preprocessing import add_dummy_feature\n",
    "\"\"\"\n",
    "sklearn.preprocessing.add_dummy_feature(X, value=1.0)\n",
    "Augment dataset with an additional dummy feature.\n",
    "This is useful for fitting an intercept term with implementations which cannot otherwise fit it directly.\n",
    "https://scikit-learn.org/stable/modules/generated/sklearn.preprocessing.add_dummy_feature.html\n",
    "\"\"\"\n",
    "\n",
    "np.random.seed(42)\n",
    "m = 100\n",
    "X = 2 * np.random.rand(m ,1)\n",
    "y = 4 + 2 * X + np.random.randn(m, 1)\n",
    "\n",
    "\"\"\"\n",
    "Understanding the Linear Model\n",
    "In a linear regression setting, the relationship between X and Y is often modeled as:\n",
    "\n",
    "Y = β₀ + β₁X + ε\n",
    "\n",
    "Where:\n",
    "β₀ (4): The intercept, representing the value of Y when X = 0.\n",
    "β₁ (2): The slope of the line, representing the rate of change of Y with respect to X.\n",
    "ε (random noise): Represents random variation or \"noise\" that is added to\n",
    "make the data more realistic.\n",
    "Chat GPT Example\n",
    "\"\"\"\n",
    "\n",
    "X_b = add_dummy_feature(X)\n",
    "\"\"\"\n",
    "Understand the purpose of X_b\n",
    "The function sklearn.preprocessing.add_dummy_feature adds a column of constant values (typically 1.0)\n",
    "to a feature matrix X. This dummy column is often used to account for the intercept term in a linear\n",
    "regression model.\n",
    "\n",
    "X= \n",
    "0.5\n",
    "1.2\n",
    "0.8\n",
    "\n",
    "X b\t=  \n",
    "1 0.5\n",
    "1 1.2\n",
    "1 0.8\n",
    "Chat GPT\n",
    "\"\"\"\n",
    "\n",
    "theta_best = np.linalg.inv(X_b.T @ X_b) @ X_b.T @ y\n",
    "\"\"\"\n",
    "numpy.linalg.inv\n",
    "Compute the inverse of a matrix\n",
    "https://numpy.org/doc/stable/reference/generated/numpy.linalg.inv.html\n",
    "\n",
    "Matrix: a data structure composed of rows and columns\n",
    "https://www.lenovo.com › outletus › glossary › matrix\n",
    "\"\"\"\n",
    "\n",
    "print(\"m\", m)\n",
    "print(\"X\", X[:10])\n",
    "print(\"y\", y[:10])\n",
    "print(\"X_b\", X_b[:10])\n",
    "print(\"theta_best\", theta_best[:10])\n",
    "\n",
    "X_new = np.array([[0],[2]])\n",
    "X_new_b = add_dummy_feature(X_new)\n",
    "y_predict = X_new_b @ theta_best\n",
    "print(\"y_predict\", y_predict)"
   ]
  },
  {
   "cell_type": "code",
   "execution_count": 2,
   "id": "de1813c6-1f5e-46d0-aa9c-69458784f517",
   "metadata": {},
   "outputs": [
    {
     "name": "stdout",
     "output_type": "stream",
     "text": [
      "m 100\n",
      "X [[0.74908024]\n",
      " [1.90142861]\n",
      " [1.46398788]\n",
      " [1.19731697]\n",
      " [0.31203728]\n",
      " [0.31198904]\n",
      " [0.11616722]\n",
      " [1.73235229]\n",
      " [1.20223002]\n",
      " [1.41614516]]\n",
      "y [[5.58520754]\n",
      " [7.50384988]\n",
      " [7.01973654]\n",
      " [4.40706502]\n",
      " [4.40440267]\n",
      " [4.98109065]\n",
      " [5.71022849]\n",
      " [6.94643436]\n",
      " [5.59596644]\n",
      " [6.33053327]]\n",
      "X_b [[1.         0.74908024]\n",
      " [1.         1.90142861]\n",
      " [1.         1.46398788]\n",
      " [1.         1.19731697]\n",
      " [1.         0.31203728]\n",
      " [1.         0.31198904]\n",
      " [1.         0.11616722]\n",
      " [1.         1.73235229]\n",
      " [1.         1.20223002]\n",
      " [1.         1.41614516]]\n",
      "theta_best [[4.21509616]\n",
      " [1.77011339]]\n",
      "y_predict [[4.21509616]\n",
      " [7.75532293]]\n"
     ]
    },
    {
     "data": {
      "image/png": "[encoded data removed]",
      "text/plain": [
       "<Figure size 640x480 with 1 Axes>"
      ]
     },
     "metadata": {},
     "output_type": "display_data"
    }
   ],
   "source": [
    "import numpy as np\n",
    "from sklearn.preprocessing import add_dummy_feature\n",
    "\"\"\"\n",
    "sklearn.preprocessing.add_dummy_feature(X, value=1.0)\n",
    "Augment dataset with an additional dummy feature.\n",
    "This is useful for fitting an intercept term with implementations which cannot otherwise fit it directly.\n",
    "https://scikit-learn.org/stable/modules/generated/sklearn.preprocessing.add_dummy_feature.html\n",
    "\"\"\"\n",
    "\n",
    "# new import \n",
    "import matplotlib.pyplot as plt\n",
    "\n",
    "np.random.seed(42)\n",
    "m = 100\n",
    "X = 2 * np.random.rand(m ,1)\n",
    "y = 4 + 2 * X + np.random.randn(m, 1)\n",
    "\n",
    "\"\"\"\n",
    "Understanding the Linear Model\n",
    "In a linear regression setting, the relationship between X and Y is often modeled as:\n",
    "\n",
    "Y = β₀ + β₁X + ε\n",
    "\n",
    "Where:\n",
    "β₀ (4): The intercept, representing the value of Y when X = 0.\n",
    "β₁ (2): The slope of the line, representing the rate of change of Y with respect to X.\n",
    "ε (random noise): Represents random variation or \"noise\" that is added to\n",
    "make the data more realistic.\n",
    "Chat GPT Example\n",
    "\"\"\"\n",
    "\n",
    "X_b = add_dummy_feature(X)\n",
    "\"\"\"\n",
    "Understand the purpose of X_b\n",
    "The function sklearn.preprocessing.add_dummy_feature adds a column of constant values (typically 1.0)\n",
    "to a feature matrix X. This dummy column is often used to account for the intercept term in a linear\n",
    "regression model.\n",
    "\n",
    "X= \n",
    "0.5\n",
    "1.2\n",
    "0.8\n",
    "\n",
    "X b\t=  \n",
    "1 0.5\n",
    "1 1.2\n",
    "1 0.8\n",
    "Chat GPT\n",
    "\"\"\"\n",
    "\n",
    "theta_best = np.linalg.inv(X_b.T @ X_b) @ X_b.T @ y\n",
    "\"\"\"\n",
    "numpy.linalg.inv\n",
    "Compute the inverse of a matrix\n",
    "https://numpy.org/doc/stable/reference/generated/numpy.linalg.inv.html\n",
    "\n",
    "Matrix: a data structure composed of rows and columns\n",
    "https://www.lenovo.com › outletus › glossary › matrix\n",
    "\"\"\"\n",
    "\n",
    "print(\"m\", m)\n",
    "print(\"X\", X[:10])\n",
    "print(\"y\", y[:10])\n",
    "print(\"X_b\", X_b[:10])\n",
    "print(\"theta_best\", theta_best[:10])\n",
    "\n",
    "X_new = np.array([[0],[2]])\n",
    "X_new_b = add_dummy_feature(X_new)\n",
    "y_predict = X_new_b @ theta_best\n",
    "print(\"y_predict\", y_predict)\n",
    "\n",
    "# plot\n",
    "plt.plot(X_new, y_predict, \"r-\", label=\"Predictions\")\n",
    "plt.plot(X, y, \"b.\")\n",
    "[...]\n",
    "plt.show()"
   ]
  },
  {
   "cell_type": "code",
   "execution_count": 3,
   "id": "acf79ad2-fa89-4480-9207-92c744f1891b",
   "metadata": {
    "scrolled": true
   },
   "outputs": [
    {
     "name": "stdout",
     "output_type": "stream",
     "text": [
      "lin_reg intercept [4.21509616]\n",
      "lin_reg.coef_ [[1.77011339]]\n",
      "predict [[4.21509616]\n",
      " [7.75532293]]\n"
     ]
    }
   ],
   "source": [
    "# Perform linear regression using Sklearn\n",
    "from sklearn.linear_model import LinearRegression\n",
    "import numpy as np\n",
    "\n",
    "# Seed data\n",
    "np.random.seed(42)\n",
    "m = 100\n",
    "X = 2 * np.random.rand(m ,1)\n",
    "y = 4 + 2 * X + np.random.randn(m, 1)\n",
    "\n",
    "lin_reg = LinearRegression()\n",
    "lin_reg.fit(X, y)\n",
    "\n",
    "print(\"lin_reg intercept\", lin_reg.intercept_)\n",
    "print(\"lin_reg.coef_\", lin_reg.coef_)\n",
    "\n",
    "# predict\n",
    "X_new = np.array([[0],[2]])\n",
    "print(\"predict\", lin_reg.predict(X_new))"
   ]
  },
  {
   "cell_type": "markdown",
   "id": "5d6caea6-5a52-40dd-ad3e-30564b145c4a",
   "metadata": {},
   "source": [
    "> This function computes 𝛉, where is the pseudoinverse of X (specifically, the Moore–Penrose inverse). You can use np.linalg.pinv() to compute the pseudoinverse directly.\n",
    "\n",
    "> This approach is more efficient than computing the Normal equation, plus it handles edge cases nicely: indeed, the Normal equation may not work if the matrix X⊺X is not invertible (i.e., singular), such as if m < n or if some features are redundant, but the pseudoinverse is always defined."
   ]
  },
  {
   "cell_type": "code",
   "execution_count": 4,
   "id": "af51fc01-6c33-48fd-b2ae-f3ebc2dd5af7",
   "metadata": {},
   "outputs": [
    {
     "name": "stdout",
     "output_type": "stream",
     "text": [
      "pseudoinverse [[4.21509616]\n",
      " [1.77011339]]\n"
     ]
    }
   ],
   "source": [
    "from sklearn.preprocessing import add_dummy_feature\n",
    "import numpy as np\n",
    "\n",
    "# Seed data\n",
    "np.random.seed(42)\n",
    "m = 100\n",
    "X = 2 * np.random.rand(m ,1)\n",
    "y = 4 + 2 * X + np.random.randn(m, 1)\n",
    "\n",
    "# Add dummy feature\n",
    "X_b = add_dummy_feature(X)\n",
    "\n",
    "print(\"pseudoinverse\", np.linalg.pinv(X_b) @ y)"
   ]
  },
  {
   "cell_type": "markdown",
   "id": "c70aa6e1-9994-4a65-9427-e4465dcf1082",
   "metadata": {},
   "source": [
    "# Computational Complexity\n",
    "\n",
    "> The Normal equation computes the inverse of X⊺ X...\n",
    ">  if you double the number of features, you multiply the computation time by roughly 22.4 = 5.3 to 23 = 8.\n",
    "\n",
    "> The SVD approach used by Scikit-Learn’s LinearRegression class is about O(n2). If you double the number of features, you multiply the computation time by roughly 4.\n",
    "\n",
    "Both the Normal equation and the SVD approach get very slow when the number of features grows large.\n",
    "\n",
    "> Once you have trained your linear regression model (using the Normal equation or any other algorithm), predictions are very fast."
   ]
  },
  {
   "cell_type": "markdown",
   "id": "0160defd-0a35-41bd-b99d-b3f1c5eb002e",
   "metadata": {},
   "source": [
    "# Gradient Descent\n",
    "\n",
    "> Gradient descent is a generic optimization algorithm capable of finding optimal solutions to a wide range of problems. The general idea of gradient descent is to tweak parameters iteratively in order to minimize a cost function.\n",
    "\n",
    "Example:\n",
    "> Suppose you are lost in the mountains in a dense fog, and you can only feel the slope of the ground below your feet. A good strategy to get to the bottom of the valley quickly is to go downhill in the direction of the steepest slope. This is exactly what gradient descent does.\n",
    "\n",
    "> An important parameter in gradient descent is the size of the steps, determined by the learning rate hyperparameter. If the learning rate is too small, then the algorithm will have to go through many iterations to converge, which will take a long time\n",
    "> if the learning rate is too high, you might jump across the valley and end up on the other side\n",
    "\n",
    "> Additionally, not all cost functions look like nice, regular bowls. There may be holes, ridges, plateaus, and all sorts of irregular terrain, making convergence to the minimum difficult.\n",
    "\n",
    "> This diagram also illustrates the fact that training a model means searching for a combination of model parameters that minimizes a cost function (over the training set)."
   ]
  },
  {
   "cell_type": "markdown",
   "id": "3f8dd721-70ff-4121-b08e-93cabda5d4cf",
   "metadata": {},
   "source": [
    "# Batch Gradient Descent\n",
    "\n",
    "> To implement gradient descent, you need to compute the gradient of the cost function with regard to each model parameter θj. In other words, you need to calculate how much the cost function will change if you change θj just a little bit. This is called a partial derivative.\n",
    "\n",
    "> Instead of computing these partial derivatives individually, you can use Equation 4-6 to compute them all in one go.\n",
    "\n",
    "> This is why the algorithm is called batch gradient descent: it uses the whole batch of training data at every step (actually, full gradient descent would probably be a better name). As a result, it is terribly slow on very large training sets (we will look at some much faster gradient descent algorithms shortly).\n",
    "\n",
    "> To find a good learning rate, you can use grid search (see Chapter 2).\n",
    "\n",
    "> To find the optimal learning rate for a linear regression model using grid search, you essentially create a range of different learning rate values, train the model with each value, and then use cross-validation to identify the learning rate that produces the best performance on your validation set, effectively \"searching\" across a grid of potential learning rates to find the best one.\n",
    "Google AI"
   ]
  },
  {
   "cell_type": "code",
   "execution_count": 5,
   "id": "b63ed338-ca52-47ff-9c8a-ce08ebc0bcb1",
   "metadata": {},
   "outputs": [
    {
     "name": "stdout",
     "output_type": "stream",
     "text": [
      "theta [[4.21509616]\n",
      " [1.77011339]]\n"
     ]
    }
   ],
   "source": [
    "from sklearn.preprocessing import add_dummy_feature\n",
    "import numpy as np\n",
    "\n",
    "\"\"\"\n",
    "Each time a dataset passes through an algorithm, it is said to have completed an epoch.\n",
    "Therefore, Epoch, in machine learning, refers to the one entire passing of training data\n",
    "through the algorithm.\n",
    "https://www.simplilearn.com/tutorials/machine-learning-tutorial/what-is-epoch-in-machine-learning#:~:text=Each%20time%20a%20dataset%20passes,training%20data%20through%20the%20algorithm.\n",
    "\"\"\"\n",
    "\n",
    "# Seed data\n",
    "np.random.seed(42)\n",
    "m = 100\n",
    "X = 2 * np.random.rand(m ,1)\n",
    "y = 4 + 2 * X + np.random.randn(m, 1)\n",
    "\n",
    "# Add dummy feature\n",
    "X_b = add_dummy_feature(X)\n",
    "\n",
    "eta = 0.1 # learning rate\n",
    "n_epochs = 1000\n",
    "m = len(X_b) # number of instances\n",
    "\n",
    "np.random.seed(42)\n",
    "theta = np.random.randn(2,1) # randomly initialized model parameters\n",
    "\n",
    "for epoch in range(n_epochs):\n",
    "    gradients = 2 / m * X_b.T @ (X_b @ theta - y)\n",
    "    theta = theta - eta * gradients\n",
    "\n",
    "print(\"theta\", theta) # matches the normal equation exactly!"
   ]
  },
  {
   "cell_type": "markdown",
   "id": "555ee734-7126-4eb8-9d35-462326ee8b28",
   "metadata": {},
   "source": [
    "> You may wonder how to set the number of epochs.\n",
    "\n",
    "> A simple solution is to set a very large number of epochs but to interrupt the algorithm when the gradient vector becomes tiny—that is, when its norm becomes smaller than a tiny number ϵ (called the tolerance)—because this happens when gradient descent has (almost) reached the minimum."
   ]
  },
  {
   "cell_type": "markdown",
   "id": "275d7245-e49f-42da-8da2-c5a19dc6bb65",
   "metadata": {},
   "source": [
    "### Stochastic Gradient Descent\n",
    "\n",
    "> The main problem with batch gradient descent is the fact that it uses the whole training set to compute the gradients at every step, which makes it very slow when the training set is large. At the opposite extreme, stochastic gradient descent picks a random instance in the training set at every step and computes the gradients based only on that single instance.\n",
    "\n",
    "> Over time it will end up very close to the minimum, but once it gets there it will continue to bounce around, never settling down\n",
    "\n",
    "> stochastic gradient descent has a better chance of finding the global minimum than batch gradient descent does\n",
    "\n",
    "> The function that determines the learning rate at each iteration is called the learning schedule. If the learning rate is reduced too quickly, you may get stuck in a local minimum, or even end up frozen halfway to the minimum."
   ]
  },
  {
   "cell_type": "code",
   "execution_count": 2,
   "id": "75cdd46b-c043-4ec1-8907-2cbf9b9a0328",
   "metadata": {},
   "outputs": [
    {
     "name": "stdout",
     "output_type": "stream",
     "text": [
      "theta [[4.21052487]\n",
      " [1.74877311]]\n"
     ]
    }
   ],
   "source": [
    "from sklearn.preprocessing import add_dummy_feature\n",
    "import numpy as np\n",
    "\n",
    "# Seed data\n",
    "np.random.seed(42)\n",
    "m = 100\n",
    "X = 2 * np.random.rand(m ,1)\n",
    "y = 4 + 2 * X + np.random.randn(m, 1)\n",
    "\n",
    "# Add dummy feature\n",
    "X_b = add_dummy_feature(X)\n",
    "\n",
    "# Set the number of epochs and the learning schedule\n",
    "n_epochs = 50\n",
    "t0, t1 = 5, 50 # learning schedule hyperparameters\n",
    "\n",
    "def learning_schedule(t):\n",
    "    return t0 / (t + t1)\n",
    "\n",
    "np.random.seed(42)\n",
    "theta = np.random.randn(2, 1) # random initialization\n",
    "\n",
    "for epoch in range(n_epochs):\n",
    "    for iteration in range(m):\n",
    "        random_index = np.random.randint(m)\n",
    "        xi = X_b[random_index : random_index + 1]\n",
    "        yi = y[random_index : random_index + 1]\n",
    "        gradients = 2 * xi.T @ (xi @ theta - yi) # for SGD, do not divide by m\n",
    "        eta = learning_schedule(epoch * m + iteration)\n",
    "        theta = theta - eta * gradients\n",
    "\n",
    "print(\"theta\", theta)"
   ]
  },
  {
   "cell_type": "markdown",
   "id": "6fac951b-7f4b-4cf5-b8cf-23077c2c9f30",
   "metadata": {},
   "source": [
    "> A simple way to ensure this is to shuffle the instances during training (e.g., pick each instance randomly, or shuffle the training set at the beginning of each epoch). If you do not shuffle the instances—for example, if the instances are sorted by label—then SGD will start by optimizing for one label, then the next, and so on, and it will not settle close to the global minimum\n",
    "\n",
    "> To perform linear regression using stochastic GD with Scikit-Learn, you can use the SGDRegressor class, which defaults to optimizing the MSE cost function."
   ]
  },
  {
   "cell_type": "code",
   "execution_count": 6,
   "id": "3a0770cf-1584-4d1d-886f-8d0a496b036b",
   "metadata": {},
   "outputs": [
    {
     "name": "stdout",
     "output_type": "stream",
     "text": [
      "[4.21154695] [1.77379754]\n"
     ]
    }
   ],
   "source": [
    "from sklearn.linear_model import SGDRegressor\n",
    "import numpy as np\n",
    "\n",
    "# Seed data\n",
    "np.random.seed(42)\n",
    "m = 100\n",
    "X = 2 * np.random.rand(m ,1)\n",
    "y = 4 + 2 * X + np.random.randn(m, 1)\n",
    "\n",
    "# Init the SGDRegressor\n",
    "\"\"\"\n",
    "The following code runs for maximum 1,000 epochs (max_iter)\n",
    "or until the loss drops by less than 10–5 (tol)\n",
    "during 100 epochs (n_iter_no_change).\n",
    "It starts with a learning rate of 0.01 (eta0), using the\n",
    "default learning schedule (different from the one we used).\n",
    "Lastly, it does not use any regularization (penalty=None).\n",
    "\"\"\"\n",
    "sgd_reg = SGDRegressor(max_iter=1000, tol=1e-5, penalty=None, eta0=0.01, n_iter_no_change=100, random_state=42)\n",
    "sgd_reg.fit(X, y.ravel()) # y.ravel() b/c fit() expects 1D targets\n",
    "\n",
    "print(sgd_reg.intercept_, sgd_reg.coef_) # result is similar to the normal equation and above"
   ]
  },
  {
   "cell_type": "markdown",
   "id": "735d1f9a-eafa-4049-84c3-26d629df796b",
   "metadata": {},
   "source": [
    "### Mini-Batch Gradient\n",
    "\n",
    "> Instead of computing the gradients based on the full training set (as in batch GD) or based on just one instance (as in stochastic GD), mini-batch GD computes the gradients on small random sets of instances called mini-batches.\n",
    "\n",
    "> mini-batch GD will end up walking around a bit closer to the minimum than stochastic GD—but it may be harder for it to escape from local minima"
   ]
  },
  {
   "cell_type": "markdown",
   "id": "10917739-c6ba-4040-bd16-8f5168fac72b",
   "metadata": {},
   "source": [
    "### Polynomial Regression\n",
    "\n",
    "> Polynomial regression is a machine learning technique that models non-linear relationships between variables in data. It's an extension of linear regression, which assumes a linear relationship between variables, but many real-world data sets don't have this relationship.\n",
    "Google AI"
   ]
  },
  {
   "cell_type": "markdown",
   "id": "b2fc2a3f-121c-465d-93af-cbecf2dd24c9",
   "metadata": {},
   "source": [
    "> Surprisingly, you can use a linear model to fit nonlinear data. A simple way to do this is to add powers of each feature as new features, then train a linear model on this extended set of features. This technique is called polynomial regression."
   ]
  },
  {
   "cell_type": "code",
   "execution_count": null,
   "id": "3e95710d-0537-4104-9e4d-1e153840482c",
   "metadata": {},
   "outputs": [],
   "source": [
    "import numpy as np\n",
    "\n",
    "# Seed the data\n",
    "np.random.seed(42)\n",
    "m = 100\n",
    "X = 6 * np.random.rand(m,1)-3\n",
    "y = 0.5 * X ** 2 + X + 2 + np.random.rand(m,1)"
   ]
  },
  {
   "cell_type": "markdown",
   "id": "2fa56d7e-8608-4a3e-a7a4-03b985f6b702",
   "metadata": {},
   "source": [
    "> So let’s use Scikit-Learn’s PolynomialFeatures class to transform our training data, adding the square (second-degree polynomial) of each feature in the training set as a new feature (in this case there is just one feature)"
   ]
  },
  {
   "cell_type": "code",
   "execution_count": 2,
   "id": "f46ea90e-c146-4657-b250-96ce1ab5f9d5",
   "metadata": {},
   "outputs": [
    {
     "name": "stdout",
     "output_type": "stream",
     "text": [
      "[-0.75275929]\n",
      "[-0.75275929  0.56664654]\n"
     ]
    }
   ],
   "source": [
    "import numpy as np\n",
    "\n",
    "# new import\n",
    "from sklearn.preprocessing import PolynomialFeatures\n",
    "\n",
    "# Seed the data\n",
    "np.random.seed(42)\n",
    "m = 100\n",
    "X = 6 * np.random.rand(m,1)-3\n",
    "y = 0.5 * X ** 2 + X + 2 + np.random.rand(m,1)\n",
    "\n",
    "# Add polynomial features\n",
    "poly_features = PolynomialFeatures(degree=2, include_bias=False)\n",
    "X_poly = poly_features.fit_transform(X)\n",
    "\n",
    "# Output\n",
    "print(X[0])\n",
    "print(X_poly[0]) # X_poly now contains the original feature of X plus the square of this feature."
   ]
  },
  {
   "cell_type": "markdown",
   "id": "7c3c0d95-2cdc-4b99-bbe2-c3e03f4595ce",
   "metadata": {},
   "source": [
    "> X_poly now contains the original feature of X plus the square of this feature. Now we can fit a LinearRegression model to this extended training data"
   ]
  },
  {
   "cell_type": "code",
   "execution_count": 4,
   "id": "221d91f0-df7f-4650-9c32-e63299e00007",
   "metadata": {},
   "outputs": [
    {
     "name": "stdout",
     "output_type": "stream",
     "text": [
      "[2.49786712] [[0.9943591  0.49967213]]\n"
     ]
    }
   ],
   "source": [
    "import numpy as np\n",
    "from sklearn.preprocessing import PolynomialFeatures\n",
    "\n",
    "# new import \n",
    "from sklearn.linear_model import LinearRegression\n",
    "\n",
    "# Seed the data\n",
    "np.random.seed(42)\n",
    "m = 100\n",
    "X = 6 * np.random.rand(m,1)-3\n",
    "y = 0.5 * X ** 2 + X + 2 + np.random.rand(m,1)\n",
    "\n",
    "# Add polynomial features\n",
    "poly_features = PolynomialFeatures(degree=2, include_bias=False)\n",
    "X_poly = poly_features.fit_transform(X)\n",
    "\n",
    "# Fit LinearRegression model\n",
    "lin_reg = LinearRegression()\n",
    "lin_reg.fit(X_poly, y)\n",
    "\n",
    "# Output\n",
    "print(lin_reg.intercept_, lin_reg.coef_)"
   ]
  },
  {
   "cell_type": "markdown",
   "id": "4f8c12e2-86f1-410d-9326-ebf7104fe47f",
   "metadata": {},
   "source": [
    "> Note that when there are multiple features, polynomial regression is capable of finding relationships between features, which is something a plain linear regression model cannot do."
   ]
  },
  {
   "cell_type": "markdown",
   "id": "dd167dd6-9d1f-4034-b854-a926d6c02fdc",
   "metadata": {},
   "source": [
    "### Learning Curves\n",
    "> How can you tell that your model is overfitting or underfitting the data?\n",
    "\n",
    "> In Chapter 2 you used cross-validation to get an estimate of a model’s generalization performance. If a model performs well on the training data but generalizes poorly according to the cross-validation metrics, then your model is overfitting. If it performs poorly on both, then it is underfitting. This is one way to tell when a model is too simple or too complex.\n",
    "\n",
    "> Another way to tell is to look at the learning curves, which are plots of the model’s training error and validation error as a function of the training iteration: just evaluate the model at regular intervals during training on both the training set and the validation set, and plot the results.\n",
    "\n",
    "> Scikit-Learn has a useful learning_curve() function to help with this: it trains and evaluates the model using cross-validation."
   ]
  },
  {
   "cell_type": "code",
   "execution_count": 7,
   "id": "43da71b7-b844-4ea2-bbfd-1d0af892f1d8",
   "metadata": {},
   "outputs": [
    {
     "data": {
      "image/png": "[encoded data removed]",
      "text/plain": [
       "<Figure size 640x480 with 1 Axes>"
      ]
     },
     "metadata": {},
     "output_type": "display_data"
    }
   ],
   "source": [
    "import numpy as np\n",
    "from sklearn.preprocessing import PolynomialFeatures\n",
    "from sklearn.linear_model import LinearRegression\n",
    "\n",
    "# new import\n",
    "from sklearn.model_selection import learning_curve\n",
    "import matplotlib.pyplot as plt\n",
    "\n",
    "# Seed the data\n",
    "np.random.seed(42)\n",
    "m = 100\n",
    "X = 6 * np.random.rand(m,1)-3\n",
    "y = 0.5 * X ** 2 + X + 2 + np.random.rand(m,1)\n",
    "\n",
    "# Add polynomial features\n",
    "poly_features = PolynomialFeatures(degree=2, include_bias=False)\n",
    "X_poly = poly_features.fit_transform(X)\n",
    "\n",
    "# Fit LinearRegression model\n",
    "lin_reg = LinearRegression()\n",
    "lin_reg.fit(X_poly, y)\n",
    "\n",
    "# Generate the learning curve\n",
    "train_sizes, train_scores, valid_scores = learning_curve(\n",
    "    LinearRegression(),\n",
    "    X,\n",
    "    y,\n",
    "    train_sizes=np.linspace(0.01, 1.0, 40),\n",
    "    cv=5,\n",
    "    scoring=\"neg_root_mean_squared_error\")\n",
    "train_errors = -train_scores.mean(axis=1)\n",
    "valid_errors = -valid_scores.mean(axis=1)\n",
    "\n",
    "# Plot\n",
    "plt.plot(train_sizes, train_errors, \"r-+\", linewidth=2, label=\"train\")\n",
    "plt.plot(train_sizes, valid_errors, \"b-\", linewidth=3, label=\"valid\")\n",
    "[...]  # beautify the figure: add labels, axis, grid, and legend\n",
    "plt.show()"
   ]
  },
  {
   "cell_type": "markdown",
   "id": "0edf476a-be62-4c07-8843-01c319891598",
   "metadata": {},
   "source": [
    "> These learning curves are typical of a model that’s underfitting. Both curves have reached a plateau; they are close and fairly high."
   ]
  },
  {
   "cell_type": "code",
   "execution_count": 8,
   "id": "04231698-7aa9-4886-b132-6e956c20e6dd",
   "metadata": {},
   "outputs": [
    {
     "data": {
      "image/png": "[encoded data removed]",
      "text/plain": [
       "<Figure size 640x480 with 1 Axes>"
      ]
     },
     "metadata": {},
     "output_type": "display_data"
    }
   ],
   "source": [
    "import numpy as np\n",
    "from sklearn.preprocessing import PolynomialFeatures\n",
    "from sklearn.linear_model import LinearRegression\n",
    "from sklearn.model_selection import learning_curve\n",
    "import matplotlib.pyplot as plt\n",
    "\n",
    "# new import\n",
    "from sklearn.pipeline import make_pipeline\n",
    "\n",
    "# Seed the data\n",
    "np.random.seed(42)\n",
    "m = 100\n",
    "X = 6 * np.random.rand(m,1)-3\n",
    "y = 0.5 * X ** 2 + X + 2 + np.random.rand(m,1)\n",
    "\n",
    "# Add polynomial features\n",
    "poly_features = PolynomialFeatures(degree=2, include_bias=False)\n",
    "X_poly = poly_features.fit_transform(X)\n",
    "\n",
    "# Fit LinearRegression model\n",
    "lin_reg = LinearRegression()\n",
    "lin_reg.fit(X_poly, y)\n",
    "\n",
    "# Make pipeline\n",
    "polynomial_regression = make_pipeline(\n",
    "    PolynomialFeatures(degree=10,include_bias=False),\n",
    "    LinearRegression()\n",
    ")\n",
    "\n",
    "# Generate the learning curve\n",
    "train_sizes, train_scores, valid_scores = learning_curve(\n",
    "    polynomial_regression,\n",
    "    X,\n",
    "    y,\n",
    "    train_sizes=np.linspace(0.01, 1.0, 40),\n",
    "    cv=5,\n",
    "    scoring=\"neg_root_mean_squared_error\")\n",
    "train_errors = -train_scores.mean(axis=1)\n",
    "valid_errors = -valid_scores.mean(axis=1)\n",
    "\n",
    "# Plot\n",
    "plt.plot(train_sizes, train_errors, \"r-+\", linewidth=2, label=\"train\")\n",
    "plt.plot(train_sizes, valid_errors, \"b-\", linewidth=3, label=\"valid\")\n",
    "[...]  # beautify the figure: add labels, axis, grid, and legend\n",
    "plt.show()"
   ]
  },
  {
   "cell_type": "markdown",
   "id": "db2fcf87-2fb3-4b69-83b5-7f2e4841b476",
   "metadata": {},
   "source": [
    "> There is a gap between the curves. This means that the model performs significantly better on the training data than on the validation data, which is the hallmark of an overfitting model. If you used a much larger training set, however, the two curves would continue to get closer."
   ]
  },
  {
   "cell_type": "code",
   "execution_count": null,
   "id": "776f418f-bea0-494e-800e-aeb4b4de1217",
   "metadata": {},
   "outputs": [],
   "source": []
  },
  {
   "cell_type": "code",
   "execution_count": null,
   "id": "7f0d3bf8-e628-4d6e-816e-79c447af13d1",
   "metadata": {},
   "outputs": [],
   "source": []
  }
 ],
 "metadata": {
  "kernelspec": {
   "display_name": "Python 3 (ipykernel)",
   "language": "python",
   "name": "python3"
  },
  "language_info": {
   "codemirror_mode": {
    "name": "ipython",
    "version": 3
   },
   "file_extension": ".py",
   "mimetype": "text/x-python",
   "name": "python",
   "nbconvert_exporter": "python",
   "pygments_lexer": "ipython3",
   "version": "3.13.0"
  }
 },
 "nbformat": 4,
 "nbformat_minor": 5
}
