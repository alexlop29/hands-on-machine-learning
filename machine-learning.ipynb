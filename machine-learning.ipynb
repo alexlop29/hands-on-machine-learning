{
 "cells": [
  {
   "cell_type": "markdown",
   "id": "e47778a3-44a1-43d2-9cd6-18e4ab07ee13",
   "metadata": {},
   "source": [
    "Base Definitions\n",
    "\n",
    "Machine learning is the field of study that gives computers the ability to learn without being explicitly programmed\n",
    "\n",
    "The examples that the system uses to learn are called the training set. \n",
    "\n",
    "The part of a machine learning system that learns and makes predictions is called a model. "
   ]
  },
  {
   "cell_type": "markdown",
   "id": "f46fa486-77dd-4c59-917f-c2b0cd1d57ee",
   "metadata": {},
   "source": [
    "Types\n",
    "\n",
    "In supervised learning, the training set you feed to the algorithm includes the desired solutions, called labels.\n",
    "Examples: Classification\n",
    "\n",
    "In unsupervised learning, as you might guess, the training data is unlabeled. The system tries to learn without a teacher.\n",
    "Examples: Anomaly Detection\n",
    "\n",
    "Since labeling data is usually time-consuming and costly, you will often have plenty of unlabeled instances,\n",
    "and few labeled instances. Some algorithms can deal with data that’s partially labeled. This is called semi-supervised learning.\n",
    "\n",
    "Another approach to machine learning involves actually generating a fully labeled dataset from a fully unlabeled one.\n",
    "Again, once the whole dataset is labeled, any supervised learning algorithm can be used.\n",
    "This approach is called self-supervised learning.\n",
    "\n",
    "Reinforcement learning is a very different beast.\n",
    "The learning system, called an agent in this context, can observe the environment, select and perform actions,\n",
    "and get rewards in return (or penalties in the form of negative rewards.\n",
    "It must then learn by itself what is the best strategy, called a policy, to get the most reward over time.\n",
    "A policy defines what action the agent should choose when it is in a given situation."
   ]
  },
  {
   "cell_type": "markdown",
   "id": "a3138c97-a30e-4d93-a596-3400819035df",
   "metadata": {},
   "source": [
    "Offline Versus Online Learning\n",
    "\n",
    "In batch learning, the system is incapable of learning incrementally: it must be trained using all the available data.\n",
    "This will generally take a lot of time and computing resources, so it is typically done offline.\n",
    "First the system is trained, and then it is launched into production and runs without learning anymore;\n",
    "it just applies what it has learned. This is called offline learning.\n",
    "\n",
    "In online learning, you train the system incrementally by feeding it data instances sequentially,\n",
    "either individually or in small groups called mini-batches. Each learning step is fast and cheap,\n",
    "so the system can learn about new data on the fly, as it arrives."
   ]
  },
  {
   "cell_type": "markdown",
   "id": "f1686429-94a8-470a-beb6-b1d1ce6df124",
   "metadata": {},
   "source": [
    "Instance-Based Versus Model-Based Learning\n",
    "\n",
    "instance-based learning: the system learns the examples by heart,\n",
    "then generalizes to new cases by using a similarity measure to compare them to the\n",
    "learned examples (or a subset of them)\n",
    "\n",
    "(???)"
   ]
  },
  {
   "cell_type": "markdown",
   "id": "c26dd0d9-cbee-42cb-9ce7-a4ddc4145c26",
   "metadata": {},
   "source": [
    "Known Challenges\n",
    "- Insufficient Quantity of Training Data\n",
    "- Sampling Bias\n",
    "- Poor-Quality Data\n",
    "- Irrelevant Features\n",
    "- Overfitting and Underfitting Data"
   ]
  },
  {
   "cell_type": "markdown",
   "id": "30836974-e1cb-4a2e-95e4-49b28980c9f9",
   "metadata": {},
   "source": [
    "Testing\n",
    "\n",
    "Split your data into two sets: the training set and the test set.\n",
    "As these names imply, you train your model using the training set, and you test it using the test set.\n",
    "The error rate on new cases is called the generalization error (or out-of-sample error),\n",
    "and by evaluating your model on the test set, you get an estimate of this error. "
   ]
  }
 ],
 "metadata": {
  "kernelspec": {
   "display_name": "Python 3 (ipykernel)",
   "language": "python",
   "name": "python3"
  },
  "language_info": {
   "codemirror_mode": {
    "name": "ipython",
    "version": 3
   },
   "file_extension": ".py",
   "mimetype": "text/x-python",
   "name": "python",
   "nbconvert_exporter": "python",
   "pygments_lexer": "ipython3",
   "version": "3.13.0"
  }
 },
 "nbformat": 4,
 "nbformat_minor": 5
}
