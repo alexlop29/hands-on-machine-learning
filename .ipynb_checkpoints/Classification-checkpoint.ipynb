{
 "cells": [
  {
   "cell_type": "code",
   "execution_count": null,
   "id": "4b101bef-7a22-4d97-80f7-23b6f7a74fdd",
   "metadata": {},
   "outputs": [],
   "source": [
    "Popular Datasets\n",
    "- MNIST: set of 70,000 digits handwritten"
   ]
  },
  {
   "cell_type": "code",
   "execution_count": 5,
   "id": "8f938cff-e083-4ee2-849c-cec5ff3fc61f",
   "metadata": {},
   "outputs": [
    {
     "ename": "ImportError",
     "evalue": "cannot import name 'fetch_mldata' from 'sklearn.datasets' (/Users/alexanderlopez/.local/share/virtualenvs/hands-on-machine-learning-YnWdDazd/lib/python3.13/site-packages/sklearn/datasets/__init__.py)",
     "output_type": "error",
     "traceback": [
      "\u001b[0;31m---------------------------------------------------------------------------\u001b[0m",
      "\u001b[0;31mImportError\u001b[0m                               Traceback (most recent call last)",
      "Cell \u001b[0;32mIn[5], line 1\u001b[0m\n\u001b[0;32m----> 1\u001b[0m \u001b[38;5;28;01mfrom\u001b[39;00m \u001b[38;5;21;01msklearn\u001b[39;00m\u001b[38;5;21;01m.\u001b[39;00m\u001b[38;5;21;01mdatasets\u001b[39;00m \u001b[38;5;28;01mimport\u001b[39;00m fetch_mldata\n\u001b[1;32m      2\u001b[0m mnist \u001b[38;5;241m=\u001b[39m fetch_mldata(\u001b[38;5;124m'\u001b[39m\u001b[38;5;124mMNIST original\u001b[39m\u001b[38;5;124m'\u001b[39m)\n\u001b[1;32m      3\u001b[0m \u001b[38;5;28mprint\u001b[39m(mnist)\n",
      "\u001b[0;31mImportError\u001b[0m: cannot import name 'fetch_mldata' from 'sklearn.datasets' (/Users/alexanderlopez/.local/share/virtualenvs/hands-on-machine-learning-YnWdDazd/lib/python3.13/site-packages/sklearn/datasets/__init__.py)"
     ]
    }
   ],
   "source": [
    "from sklearn.datasets import fetch_mldata\n",
    "mnist = fetch_mldata('MNIST original')\n",
    "print(mnist)"
   ]
  },
  {
   "cell_type": "code",
   "execution_count": null,
   "id": "c36da4f2-529a-4d72-9530-ef5c9a3456c6",
   "metadata": {},
   "outputs": [],
   "source": [
    "The syntax above is out of date.\n",
    "https://scikit-learn.org/stable/whats_new/v0.20.html"
   ]
  },
  {
   "cell_type": "code",
   "execution_count": 2,
   "id": "df4689f9-e38f-4ccd-8ab0-7a1ff28ab796",
   "metadata": {},
   "outputs": [
    {
     "name": "stdout",
     "output_type": "stream",
     "text": [
      "{'data':        pixel1  pixel2  pixel3  pixel4  pixel5  pixel6  pixel7  pixel8  pixel9  \\\n",
      "0           0       0       0       0       0       0       0       0       0   \n",
      "1           0       0       0       0       0       0       0       0       0   \n",
      "2           0       0       0       0       0       0       0       0       0   \n",
      "3           0       0       0       0       0       0       0       0       0   \n",
      "4           0       0       0       0       0       0       0       0       0   \n",
      "...       ...     ...     ...     ...     ...     ...     ...     ...     ...   \n",
      "69995       0       0       0       0       0       0       0       0       0   \n",
      "69996       0       0       0       0       0       0       0       0       0   \n",
      "69997       0       0       0       0       0       0       0       0       0   \n",
      "69998       0       0       0       0       0       0       0       0       0   \n",
      "69999       0       0       0       0       0       0       0       0       0   \n",
      "\n",
      "       pixel10  ...  pixel775  pixel776  pixel777  pixel778  pixel779  \\\n",
      "0            0  ...         0         0         0         0         0   \n",
      "1            0  ...         0         0         0         0         0   \n",
      "2            0  ...         0         0         0         0         0   \n",
      "3            0  ...         0         0         0         0         0   \n",
      "4            0  ...         0         0         0         0         0   \n",
      "...        ...  ...       ...       ...       ...       ...       ...   \n",
      "69995        0  ...         0         0         0         0         0   \n",
      "69996        0  ...         0         0         0         0         0   \n",
      "69997        0  ...         0         0         0         0         0   \n",
      "69998        0  ...         0         0         0         0         0   \n",
      "69999        0  ...         0         0         0         0         0   \n",
      "\n",
      "       pixel780  pixel781  pixel782  pixel783  pixel784  \n",
      "0             0         0         0         0         0  \n",
      "1             0         0         0         0         0  \n",
      "2             0         0         0         0         0  \n",
      "3             0         0         0         0         0  \n",
      "4             0         0         0         0         0  \n",
      "...         ...       ...       ...       ...       ...  \n",
      "69995         0         0         0         0         0  \n",
      "69996         0         0         0         0         0  \n",
      "69997         0         0         0         0         0  \n",
      "69998         0         0         0         0         0  \n",
      "69999         0         0         0         0         0  \n",
      "\n",
      "[70000 rows x 784 columns], 'target': 0        5\n",
      "1        0\n",
      "2        4\n",
      "3        1\n",
      "4        9\n",
      "        ..\n",
      "69995    2\n",
      "69996    3\n",
      "69997    4\n",
      "69998    5\n",
      "69999    6\n",
      "Name: class, Length: 70000, dtype: category\n",
      "Categories (10, object): ['0', '1', '2', '3', ..., '6', '7', '8', '9'], 'frame':        pixel1  pixel2  pixel3  pixel4  pixel5  pixel6  pixel7  pixel8  pixel9  \\\n",
      "0           0       0       0       0       0       0       0       0       0   \n",
      "1           0       0       0       0       0       0       0       0       0   \n",
      "2           0       0       0       0       0       0       0       0       0   \n",
      "3           0       0       0       0       0       0       0       0       0   \n",
      "4           0       0       0       0       0       0       0       0       0   \n",
      "...       ...     ...     ...     ...     ...     ...     ...     ...     ...   \n",
      "69995       0       0       0       0       0       0       0       0       0   \n",
      "69996       0       0       0       0       0       0       0       0       0   \n",
      "69997       0       0       0       0       0       0       0       0       0   \n",
      "69998       0       0       0       0       0       0       0       0       0   \n",
      "69999       0       0       0       0       0       0       0       0       0   \n",
      "\n",
      "       pixel10  ...  pixel776  pixel777  pixel778  pixel779  pixel780  \\\n",
      "0            0  ...         0         0         0         0         0   \n",
      "1            0  ...         0         0         0         0         0   \n",
      "2            0  ...         0         0         0         0         0   \n",
      "3            0  ...         0         0         0         0         0   \n",
      "4            0  ...         0         0         0         0         0   \n",
      "...        ...  ...       ...       ...       ...       ...       ...   \n",
      "69995        0  ...         0         0         0         0         0   \n",
      "69996        0  ...         0         0         0         0         0   \n",
      "69997        0  ...         0         0         0         0         0   \n",
      "69998        0  ...         0         0         0         0         0   \n",
      "69999        0  ...         0         0         0         0         0   \n",
      "\n",
      "       pixel781  pixel782  pixel783  pixel784  class  \n",
      "0             0         0         0         0      5  \n",
      "1             0         0         0         0      0  \n",
      "2             0         0         0         0      4  \n",
      "3             0         0         0         0      1  \n",
      "4             0         0         0         0      9  \n",
      "...         ...       ...       ...       ...    ...  \n",
      "69995         0         0         0         0      2  \n",
      "69996         0         0         0         0      3  \n",
      "69997         0         0         0         0      4  \n",
      "69998         0         0         0         0      5  \n",
      "69999         0         0         0         0      6  \n",
      "\n",
      "[70000 rows x 785 columns], 'categories': None, 'feature_names': ['pixel1', 'pixel2', 'pixel3', 'pixel4', 'pixel5', 'pixel6', 'pixel7', 'pixel8', 'pixel9', 'pixel10', 'pixel11', 'pixel12', 'pixel13', 'pixel14', 'pixel15', 'pixel16', 'pixel17', 'pixel18', 'pixel19', 'pixel20', 'pixel21', 'pixel22', 'pixel23', 'pixel24', 'pixel25', 'pixel26', 'pixel27', 'pixel28', 'pixel29', 'pixel30', 'pixel31', 'pixel32', 'pixel33', 'pixel34', 'pixel35', 'pixel36', 'pixel37', 'pixel38', 'pixel39', 'pixel40', 'pixel41', 'pixel42', 'pixel43', 'pixel44', 'pixel45', 'pixel46', 'pixel47', 'pixel48', 'pixel49', 'pixel50', 'pixel51', 'pixel52', 'pixel53', 'pixel54', 'pixel55', 'pixel56', 'pixel57', 'pixel58', 'pixel59', 'pixel60', 'pixel61', 'pixel62', 'pixel63', 'pixel64', 'pixel65', 'pixel66', 'pixel67', 'pixel68', 'pixel69', 'pixel70', 'pixel71', 'pixel72', 'pixel73', 'pixel74', 'pixel75', 'pixel76', 'pixel77', 'pixel78', 'pixel79', 'pixel80', 'pixel81', 'pixel82', 'pixel83', 'pixel84', 'pixel85', 'pixel86', 'pixel87', 'pixel88', 'pixel89', 'pixel90', 'pixel91', 'pixel92', 'pixel93', 'pixel94', 'pixel95', 'pixel96', 'pixel97', 'pixel98', 'pixel99', 'pixel100', 'pixel101', 'pixel102', 'pixel103', 'pixel104', 'pixel105', 'pixel106', 'pixel107', 'pixel108', 'pixel109', 'pixel110', 'pixel111', 'pixel112', 'pixel113', 'pixel114', 'pixel115', 'pixel116', 'pixel117', 'pixel118', 'pixel119', 'pixel120', 'pixel121', 'pixel122', 'pixel123', 'pixel124', 'pixel125', 'pixel126', 'pixel127', 'pixel128', 'pixel129', 'pixel130', 'pixel131', 'pixel132', 'pixel133', 'pixel134', 'pixel135', 'pixel136', 'pixel137', 'pixel138', 'pixel139', 'pixel140', 'pixel141', 'pixel142', 'pixel143', 'pixel144', 'pixel145', 'pixel146', 'pixel147', 'pixel148', 'pixel149', 'pixel150', 'pixel151', 'pixel152', 'pixel153', 'pixel154', 'pixel155', 'pixel156', 'pixel157', 'pixel158', 'pixel159', 'pixel160', 'pixel161', 'pixel162', 'pixel163', 'pixel164', 'pixel165', 'pixel166', 'pixel167', 'pixel168', 'pixel169', 'pixel170', 'pixel171', 'pixel172', 'pixel173', 'pixel174', 'pixel175', 'pixel176', 'pixel177', 'pixel178', 'pixel179', 'pixel180', 'pixel181', 'pixel182', 'pixel183', 'pixel184', 'pixel185', 'pixel186', 'pixel187', 'pixel188', 'pixel189', 'pixel190', 'pixel191', 'pixel192', 'pixel193', 'pixel194', 'pixel195', 'pixel196', 'pixel197', 'pixel198', 'pixel199', 'pixel200', 'pixel201', 'pixel202', 'pixel203', 'pixel204', 'pixel205', 'pixel206', 'pixel207', 'pixel208', 'pixel209', 'pixel210', 'pixel211', 'pixel212', 'pixel213', 'pixel214', 'pixel215', 'pixel216', 'pixel217', 'pixel218', 'pixel219', 'pixel220', 'pixel221', 'pixel222', 'pixel223', 'pixel224', 'pixel225', 'pixel226', 'pixel227', 'pixel228', 'pixel229', 'pixel230', 'pixel231', 'pixel232', 'pixel233', 'pixel234', 'pixel235', 'pixel236', 'pixel237', 'pixel238', 'pixel239', 'pixel240', 'pixel241', 'pixel242', 'pixel243', 'pixel244', 'pixel245', 'pixel246', 'pixel247', 'pixel248', 'pixel249', 'pixel250', 'pixel251', 'pixel252', 'pixel253', 'pixel254', 'pixel255', 'pixel256', 'pixel257', 'pixel258', 'pixel259', 'pixel260', 'pixel261', 'pixel262', 'pixel263', 'pixel264', 'pixel265', 'pixel266', 'pixel267', 'pixel268', 'pixel269', 'pixel270', 'pixel271', 'pixel272', 'pixel273', 'pixel274', 'pixel275', 'pixel276', 'pixel277', 'pixel278', 'pixel279', 'pixel280', 'pixel281', 'pixel282', 'pixel283', 'pixel284', 'pixel285', 'pixel286', 'pixel287', 'pixel288', 'pixel289', 'pixel290', 'pixel291', 'pixel292', 'pixel293', 'pixel294', 'pixel295', 'pixel296', 'pixel297', 'pixel298', 'pixel299', 'pixel300', 'pixel301', 'pixel302', 'pixel303', 'pixel304', 'pixel305', 'pixel306', 'pixel307', 'pixel308', 'pixel309', 'pixel310', 'pixel311', 'pixel312', 'pixel313', 'pixel314', 'pixel315', 'pixel316', 'pixel317', 'pixel318', 'pixel319', 'pixel320', 'pixel321', 'pixel322', 'pixel323', 'pixel324', 'pixel325', 'pixel326', 'pixel327', 'pixel328', 'pixel329', 'pixel330', 'pixel331', 'pixel332', 'pixel333', 'pixel334', 'pixel335', 'pixel336', 'pixel337', 'pixel338', 'pixel339', 'pixel340', 'pixel341', 'pixel342', 'pixel343', 'pixel344', 'pixel345', 'pixel346', 'pixel347', 'pixel348', 'pixel349', 'pixel350', 'pixel351', 'pixel352', 'pixel353', 'pixel354', 'pixel355', 'pixel356', 'pixel357', 'pixel358', 'pixel359', 'pixel360', 'pixel361', 'pixel362', 'pixel363', 'pixel364', 'pixel365', 'pixel366', 'pixel367', 'pixel368', 'pixel369', 'pixel370', 'pixel371', 'pixel372', 'pixel373', 'pixel374', 'pixel375', 'pixel376', 'pixel377', 'pixel378', 'pixel379', 'pixel380', 'pixel381', 'pixel382', 'pixel383', 'pixel384', 'pixel385', 'pixel386', 'pixel387', 'pixel388', 'pixel389', 'pixel390', 'pixel391', 'pixel392', 'pixel393', 'pixel394', 'pixel395', 'pixel396', 'pixel397', 'pixel398', 'pixel399', 'pixel400', 'pixel401', 'pixel402', 'pixel403', 'pixel404', 'pixel405', 'pixel406', 'pixel407', 'pixel408', 'pixel409', 'pixel410', 'pixel411', 'pixel412', 'pixel413', 'pixel414', 'pixel415', 'pixel416', 'pixel417', 'pixel418', 'pixel419', 'pixel420', 'pixel421', 'pixel422', 'pixel423', 'pixel424', 'pixel425', 'pixel426', 'pixel427', 'pixel428', 'pixel429', 'pixel430', 'pixel431', 'pixel432', 'pixel433', 'pixel434', 'pixel435', 'pixel436', 'pixel437', 'pixel438', 'pixel439', 'pixel440', 'pixel441', 'pixel442', 'pixel443', 'pixel444', 'pixel445', 'pixel446', 'pixel447', 'pixel448', 'pixel449', 'pixel450', 'pixel451', 'pixel452', 'pixel453', 'pixel454', 'pixel455', 'pixel456', 'pixel457', 'pixel458', 'pixel459', 'pixel460', 'pixel461', 'pixel462', 'pixel463', 'pixel464', 'pixel465', 'pixel466', 'pixel467', 'pixel468', 'pixel469', 'pixel470', 'pixel471', 'pixel472', 'pixel473', 'pixel474', 'pixel475', 'pixel476', 'pixel477', 'pixel478', 'pixel479', 'pixel480', 'pixel481', 'pixel482', 'pixel483', 'pixel484', 'pixel485', 'pixel486', 'pixel487', 'pixel488', 'pixel489', 'pixel490', 'pixel491', 'pixel492', 'pixel493', 'pixel494', 'pixel495', 'pixel496', 'pixel497', 'pixel498', 'pixel499', 'pixel500', 'pixel501', 'pixel502', 'pixel503', 'pixel504', 'pixel505', 'pixel506', 'pixel507', 'pixel508', 'pixel509', 'pixel510', 'pixel511', 'pixel512', 'pixel513', 'pixel514', 'pixel515', 'pixel516', 'pixel517', 'pixel518', 'pixel519', 'pixel520', 'pixel521', 'pixel522', 'pixel523', 'pixel524', 'pixel525', 'pixel526', 'pixel527', 'pixel528', 'pixel529', 'pixel530', 'pixel531', 'pixel532', 'pixel533', 'pixel534', 'pixel535', 'pixel536', 'pixel537', 'pixel538', 'pixel539', 'pixel540', 'pixel541', 'pixel542', 'pixel543', 'pixel544', 'pixel545', 'pixel546', 'pixel547', 'pixel548', 'pixel549', 'pixel550', 'pixel551', 'pixel552', 'pixel553', 'pixel554', 'pixel555', 'pixel556', 'pixel557', 'pixel558', 'pixel559', 'pixel560', 'pixel561', 'pixel562', 'pixel563', 'pixel564', 'pixel565', 'pixel566', 'pixel567', 'pixel568', 'pixel569', 'pixel570', 'pixel571', 'pixel572', 'pixel573', 'pixel574', 'pixel575', 'pixel576', 'pixel577', 'pixel578', 'pixel579', 'pixel580', 'pixel581', 'pixel582', 'pixel583', 'pixel584', 'pixel585', 'pixel586', 'pixel587', 'pixel588', 'pixel589', 'pixel590', 'pixel591', 'pixel592', 'pixel593', 'pixel594', 'pixel595', 'pixel596', 'pixel597', 'pixel598', 'pixel599', 'pixel600', 'pixel601', 'pixel602', 'pixel603', 'pixel604', 'pixel605', 'pixel606', 'pixel607', 'pixel608', 'pixel609', 'pixel610', 'pixel611', 'pixel612', 'pixel613', 'pixel614', 'pixel615', 'pixel616', 'pixel617', 'pixel618', 'pixel619', 'pixel620', 'pixel621', 'pixel622', 'pixel623', 'pixel624', 'pixel625', 'pixel626', 'pixel627', 'pixel628', 'pixel629', 'pixel630', 'pixel631', 'pixel632', 'pixel633', 'pixel634', 'pixel635', 'pixel636', 'pixel637', 'pixel638', 'pixel639', 'pixel640', 'pixel641', 'pixel642', 'pixel643', 'pixel644', 'pixel645', 'pixel646', 'pixel647', 'pixel648', 'pixel649', 'pixel650', 'pixel651', 'pixel652', 'pixel653', 'pixel654', 'pixel655', 'pixel656', 'pixel657', 'pixel658', 'pixel659', 'pixel660', 'pixel661', 'pixel662', 'pixel663', 'pixel664', 'pixel665', 'pixel666', 'pixel667', 'pixel668', 'pixel669', 'pixel670', 'pixel671', 'pixel672', 'pixel673', 'pixel674', 'pixel675', 'pixel676', 'pixel677', 'pixel678', 'pixel679', 'pixel680', 'pixel681', 'pixel682', 'pixel683', 'pixel684', 'pixel685', 'pixel686', 'pixel687', 'pixel688', 'pixel689', 'pixel690', 'pixel691', 'pixel692', 'pixel693', 'pixel694', 'pixel695', 'pixel696', 'pixel697', 'pixel698', 'pixel699', 'pixel700', 'pixel701', 'pixel702', 'pixel703', 'pixel704', 'pixel705', 'pixel706', 'pixel707', 'pixel708', 'pixel709', 'pixel710', 'pixel711', 'pixel712', 'pixel713', 'pixel714', 'pixel715', 'pixel716', 'pixel717', 'pixel718', 'pixel719', 'pixel720', 'pixel721', 'pixel722', 'pixel723', 'pixel724', 'pixel725', 'pixel726', 'pixel727', 'pixel728', 'pixel729', 'pixel730', 'pixel731', 'pixel732', 'pixel733', 'pixel734', 'pixel735', 'pixel736', 'pixel737', 'pixel738', 'pixel739', 'pixel740', 'pixel741', 'pixel742', 'pixel743', 'pixel744', 'pixel745', 'pixel746', 'pixel747', 'pixel748', 'pixel749', 'pixel750', 'pixel751', 'pixel752', 'pixel753', 'pixel754', 'pixel755', 'pixel756', 'pixel757', 'pixel758', 'pixel759', 'pixel760', 'pixel761', 'pixel762', 'pixel763', 'pixel764', 'pixel765', 'pixel766', 'pixel767', 'pixel768', 'pixel769', 'pixel770', 'pixel771', 'pixel772', 'pixel773', 'pixel774', 'pixel775', 'pixel776', 'pixel777', 'pixel778', 'pixel779', 'pixel780', 'pixel781', 'pixel782', 'pixel783', 'pixel784'], 'target_names': ['class'], 'DESCR': \"**Author**: Yann LeCun, Corinna Cortes, Christopher J.C. Burges  \\n**Source**: [MNIST Website](http://yann.lecun.com/exdb/mnist/) - Date unknown  \\n**Please cite**:  \\n\\nThe MNIST database of handwritten digits with 784 features, raw data available at: http://yann.lecun.com/exdb/mnist/. It can be split in a training set of the first 60,000 examples, and a test set of 10,000 examples  \\n\\nIt is a subset of a larger set available from NIST. The digits have been size-normalized and centered in a fixed-size image. It is a good database for people who want to try learning techniques and pattern recognition methods on real-world data while spending minimal efforts on preprocessing and formatting. The original black and white (bilevel) images from NIST were size normalized to fit in a 20x20 pixel box while preserving their aspect ratio. The resulting images contain grey levels as a result of the anti-aliasing technique used by the normalization algorithm. the images were centered in a 28x28 image by computing the center of mass of the pixels, and translating the image so as to position this point at the center of the 28x28 field.  \\n\\nWith some classification methods (particularly template-based methods, such as SVM and K-nearest neighbors), the error rate improves when the digits are centered by bounding box rather than center of mass. If you do this kind of pre-processing, you should report it in your publications. The MNIST database was constructed from NIST's NIST originally designated SD-3 as their training set and SD-1 as their test set. However, SD-3 is much cleaner and easier to recognize than SD-1. The reason for this can be found on the fact that SD-3 was collected among Census Bureau employees, while SD-1 was collected among high-school students. Drawing sensible conclusions from learning experiments requires that the result be independent of the choice of training set and test among the complete set of samples. Therefore it was necessary to build a new database by mixing NIST's datasets.  \\n\\nThe MNIST training set is composed of 30,000 patterns from SD-3 and 30,000 patterns from SD-1. Our test set was composed of 5,000 patterns from SD-3 and 5,000 patterns from SD-1. The 60,000 pattern training set contained examples from approximately 250 writers. We made sure that the sets of writers of the training set and test set were disjoint. SD-1 contains 58,527 digit images written by 500 different writers. In contrast to SD-3, where blocks of data from each writer appeared in sequence, the data in SD-1 is scrambled. Writer identities for SD-1 is available and we used this information to unscramble the writers. We then split SD-1 in two: characters written by the first 250 writers went into our new training set. The remaining 250 writers were placed in our test set. Thus we had two sets with nearly 30,000 examples each. The new training set was completed with enough examples from SD-3, starting at pattern # 0, to make a full set of 60,000 training patterns. Similarly, the new test set was completed with SD-3 examples starting at pattern # 35,000 to make a full set with 60,000 test patterns. Only a subset of 10,000 test images (5,000 from SD-1 and 5,000 from SD-3) is available on this site. The full 60,000 sample training set is available.\\n\\nDownloaded from openml.org.\", 'details': {'id': '554', 'name': 'mnist_784', 'version': '1', 'description_version': '2', 'format': 'ARFF', 'creator': ['Yann LeCun', 'Corinna Cortes', 'Christopher J.C. Burges'], 'upload_date': '2014-09-29T03:28:38', 'language': 'English', 'licence': 'Public', 'url': 'https://api.openml.org/data/v1/download/52667/mnist_784.arff', 'parquet_url': 'https://openml1.win.tue.nl/datasets/0000/0554/dataset_554.pq', 'file_id': '52667', 'default_target_attribute': 'class', 'tag': ['AzurePilot', 'OpenML-CC18', 'OpenML100', 'study_1', 'study_123', 'study_41', 'study_99', 'vision'], 'visibility': 'public', 'minio_url': 'https://openml1.win.tue.nl/datasets/0000/0554/dataset_554.pq', 'status': 'active', 'processing_date': '2020-11-20 20:12:09', 'md5_checksum': '0298d579eb1b86163de7723944c7e495'}, 'url': 'https://www.openml.org/d/554'}\n"
     ]
    }
   ],
   "source": [
    "from sklearn.datasets import fetch_openml\n",
    "mnist = fetch_openml('mnist_784')\n",
    "print(mnist)"
   ]
  },
  {
   "cell_type": "code",
   "execution_count": null,
   "id": "e19b5d5f-2510-40f5-9900-c2bfb8b8cbc8",
   "metadata": {},
   "outputs": [],
   "source": [
    "Updated Syntax: https://mahendra-choudhary.medium.com/mnist-handwritten-digits-recognition-using-scikit-learn-36161768d10e"
   ]
  },
  {
   "cell_type": "code",
   "execution_count": 4,
   "id": "c4c45bbf-7825-4a2f-bf39-b7d5f5aee931",
   "metadata": {},
   "outputs": [
    {
     "name": "stdout",
     "output_type": "stream",
     "text": [
      "(70000, 784)\n",
      "(70000,)\n"
     ]
    }
   ],
   "source": [
    "from sklearn.datasets import fetch_openml\n",
    "mnist = fetch_openml('mnist_784')\n",
    "X, y = mnist[\"data\"], mnist[\"target\"]\n",
    "print(X.shape)\n",
    "print(y.shape)"
   ]
  },
  {
   "cell_type": "code",
   "execution_count": null,
   "id": "0c51f024-66d7-42d6-8328-80b3f2375f86",
   "metadata": {},
   "outputs": [],
   "source": [
    "What does .shape do?\n",
    "Returns a tuple value that indicates the dimensions of a Python object\n",
    "https://www.digitalocean.com/community/tutorials/python-shape-method"
   ]
  },
  {
   "cell_type": "code",
   "execution_count": null,
   "id": "d1b703b8-aaf8-4cee-b83c-c436c173439e",
   "metadata": {},
   "outputs": [],
   "source": [
    "There are 70,000 images, and each image has 784 features."
   ]
  },
  {
   "cell_type": "code",
   "execution_count": 12,
   "id": "8968f0f4-ddbf-4db2-8fed-4a917c3036e2",
   "metadata": {},
   "outputs": [
    {
     "data": {
      "image/png": "[encoded data removed]",
      "text/plain": [
       "<Figure size 640x480 with 1 Axes>"
      ]
     },
     "metadata": {},
     "output_type": "display_data"
    },
    {
     "name": "stdout",
     "output_type": "stream",
     "text": [
      "9\n"
     ]
    }
   ],
   "source": [
    "import matplotlib\n",
    "import matplotlib.pyplot as plt\n",
    "from sklearn.datasets import fetch_openml\n",
    "\n",
    "mnist = fetch_openml('mnist_784')\n",
    "X, y = mnist[\"data\"], mnist[\"target\"]\n",
    "\n",
    "some_digit = X.iloc[36000].to_numpy()\n",
    "some_digit_image = some_digit.reshape(28,28)\n",
    "\n",
    "plt.imshow(some_digit_image, cmap = matplotlib.cm.binary, interpolation=\"nearest\")\n",
    "plt.axis(\"off\")\n",
    "plt.show()\n",
    "\n",
    "print(y[36000])"
   ]
  },
  {
   "cell_type": "code",
   "execution_count": null,
   "id": "f2dd929f-af61-4856-96c3-507f8dcdb1c5",
   "metadata": {},
   "outputs": [],
   "source": [
    "iloc: used to access data in a DataFrame by its integer-based location (row and column index)"
   ]
  },
  {
   "cell_type": "code",
   "execution_count": null,
   "id": "4b9cb174-e1ef-4564-92c7-12f732a8c2e7",
   "metadata": {},
   "outputs": [],
   "source": [
    "import matplotlib\n",
    "import matplotlib.pyplot as plt\n",
    "from sklearn.datasets import fetch_openml\n",
    "import numpy as np\n",
    "\n",
    "# Get the training data\n",
    "mnist = fetch_openml('mnist_784')\n",
    "X, y = mnist[\"data\"], mnist[\"target\"]\n",
    "\n",
    "# Display the image\n",
    "some_digit = X.iloc[36000].to_numpy()\n",
    "some_digit_image = some_digit.reshape(28,28)\n",
    "plt.imshow(some_digit_image, cmap = matplotlib.cm.binary, interpolation=\"nearest\")\n",
    "plt.axis(\"off\")\n",
    "plt.show()\n",
    "\n",
    "# Separate the training set and the test set\n",
    "X_train, X_test, y_train, y_test = X[:60000], X[60000:], y[:60000], y[60000:]"
   ]
  },
  {
   "cell_type": "code",
   "execution_count": null,
   "id": "28771b05-0eb1-42f9-8fa2-f494a899f191",
   "metadata": {},
   "outputs": [],
   "source": [
    "Training a binary classifier\n",
    "5-Detector - Distinguish between just two classses - 5 and not-5"
   ]
  },
  {
   "cell_type": "code",
   "execution_count": null,
   "id": "f305d8e6-edda-4922-a659-809ad8ac4f6e",
   "metadata": {},
   "outputs": [],
   "source": [
    "import matplotlib\n",
    "import matplotlib.pyplot as plt\n",
    "from sklearn.datasets import fetch_openml\n",
    "import numpy as np\n",
    "\n",
    "# Get the training data\n",
    "mnist = fetch_openml('mnist_784')\n",
    "X, y = mnist[\"data\"], mnist[\"target\"]\n",
    "\n",
    "# Separate the training set and the test set\n",
    "X_train, X_test, y_train, y_test = X[:60000], X[60000:], y[:60000], y[60000:]\n",
    "\n",
    "# create the target vectors for this classification task\n",
    "y_train_5 = (y_train == 5)\n",
    "y_test_5 = (y_test == 5)"
   ]
  },
  {
   "cell_type": "code",
   "execution_count": null,
   "id": "47f215e0-11eb-4a51-ac27-fb0ea5e29e25",
   "metadata": {},
   "outputs": [],
   "source": [
    "Stochastic Gradient Descent (SGD) classifier: \n",
    "- capable of handling very large datasets efficiently\n",
    "- deals with training instances independently, one at a time\n",
    "- relies on randomness during training\n",
    "(Reference: Hands on Machine Learning - Chap. 3)\n",
    "\n",
    "sto·chas·tic - randomly determined\n",
    "\n",
    "What is gradient descent?\n",
    "- gradient descent literally means descending a slope to reach the lowest point on that surface.\n",
    "- The objective of gradient descent algorithm is to find the value of “x” such that “y” is minimum.\n",
    "- Gradient descent is an iterative algorithm, that starts from a random point on a function and travels \n",
    "down its slope in steps until it reaches the lowest point of that function.\n",
    "(Reference: https://towardsdatascience.com/stochastic-gradient-descent-clearly-explained-53d239905d31)\n",
    "\n",
    "External References:\n",
    "- https://www.geeksforgeeks.org/ml-stochastic-gradient-descent-sgd/ (SGD - Introduction)\n",
    "- https://www.geeksforgeeks.org/getting-started-with-classification/ (Includes types of classification algorithms)"
   ]
  },
  {
   "cell_type": "code",
   "execution_count": 6,
   "id": "70d70b43-9f2b-49af-b886-31e712e32867",
   "metadata": {},
   "outputs": [
    {
     "name": "stdout",
     "output_type": "stream",
     "text": [
      "[False]\n"
     ]
    },
    {
     "name": "stderr",
     "output_type": "stream",
     "text": [
      "/Users/alexanderlopez/.local/share/virtualenvs/hands-on-machine-learning-YnWdDazd/lib/python3.13/site-packages/sklearn/utils/validation.py:2739: UserWarning: X does not have valid feature names, but SGDClassifier was fitted with feature names\n",
      "  warnings.warn(\n"
     ]
    }
   ],
   "source": [
    "from sklearn.datasets import fetch_openml\n",
    "from sklearn.linear_model import SGDClassifier\n",
    "\n",
    "# Get the training data\n",
    "mnist = fetch_openml('mnist_784')\n",
    "X, y = mnist[\"data\"], mnist[\"target\"]\n",
    "\n",
    "# Separate the training set and the test set\n",
    "X_train, X_test, y_train, y_test = X[:60000], X[60000:], y[:60000], y[60000:]\n",
    "\n",
    "# create the target vectors for this classification task\n",
    "y_train_5 = (y_train == \"5\")\n",
    "y_test_5 = (y_test == \"5\")\n",
    "\n",
    "# build classifier\n",
    "sgd_clf = SGDClassifier(random_state=42)\n",
    "sgd_clf.fit(X_train, y_train_5)\n",
    "\n",
    "# the num 9 - as demonstrated above\n",
    "some_digit = X.iloc[36000].to_numpy()\n",
    "\n",
    "print(sgd_clf.predict([some_digit])) # returns false - correct"
   ]
  },
  {
   "cell_type": "code",
   "execution_count": null,
   "id": "384bd27c-6541-49bf-89e8-89de82038ee9",
   "metadata": {},
   "outputs": [],
   "source": [
    "Explore sklearn to programmatically find a 5 in the datasets.\n",
    "\n",
    "Learn more about the labels."
   ]
  },
  {
   "cell_type": "code",
   "execution_count": 10,
   "id": "a67d4b4b-41e1-4a3f-aac0-a674c0837c19",
   "metadata": {},
   "outputs": [
    {
     "name": "stdout",
     "output_type": "stream",
     "text": [
      "<class 'pandas.core.frame.DataFrame'>\n",
      "RangeIndex: 70000 entries, 0 to 69999\n",
      "Columns: 785 entries, pixel1 to class\n",
      "dtypes: category(1), int64(784)\n",
      "memory usage: 418.8 MB\n",
      "info None\n",
      "====================\n",
      "X        pixel1  pixel2  pixel3  pixel4  pixel5  pixel6  pixel7  pixel8  pixel9  \\\n",
      "0           0       0       0       0       0       0       0       0       0   \n",
      "1           0       0       0       0       0       0       0       0       0   \n",
      "2           0       0       0       0       0       0       0       0       0   \n",
      "3           0       0       0       0       0       0       0       0       0   \n",
      "4           0       0       0       0       0       0       0       0       0   \n",
      "...       ...     ...     ...     ...     ...     ...     ...     ...     ...   \n",
      "69995       0       0       0       0       0       0       0       0       0   \n",
      "69996       0       0       0       0       0       0       0       0       0   \n",
      "69997       0       0       0       0       0       0       0       0       0   \n",
      "69998       0       0       0       0       0       0       0       0       0   \n",
      "69999       0       0       0       0       0       0       0       0       0   \n",
      "\n",
      "       pixel10  ...  pixel775  pixel776  pixel777  pixel778  pixel779  \\\n",
      "0            0  ...         0         0         0         0         0   \n",
      "1            0  ...         0         0         0         0         0   \n",
      "2            0  ...         0         0         0         0         0   \n",
      "3            0  ...         0         0         0         0         0   \n",
      "4            0  ...         0         0         0         0         0   \n",
      "...        ...  ...       ...       ...       ...       ...       ...   \n",
      "69995        0  ...         0         0         0         0         0   \n",
      "69996        0  ...         0         0         0         0         0   \n",
      "69997        0  ...         0         0         0         0         0   \n",
      "69998        0  ...         0         0         0         0         0   \n",
      "69999        0  ...         0         0         0         0         0   \n",
      "\n",
      "       pixel780  pixel781  pixel782  pixel783  pixel784  \n",
      "0             0         0         0         0         0  \n",
      "1             0         0         0         0         0  \n",
      "2             0         0         0         0         0  \n",
      "3             0         0         0         0         0  \n",
      "4             0         0         0         0         0  \n",
      "...         ...       ...       ...       ...       ...  \n",
      "69995         0         0         0         0         0  \n",
      "69996         0         0         0         0         0  \n",
      "69997         0         0         0         0         0  \n",
      "69998         0         0         0         0         0  \n",
      "69999         0         0         0         0         0  \n",
      "\n",
      "[70000 rows x 784 columns]\n",
      "====================\n",
      "y 0        5\n",
      "1        0\n",
      "2        4\n",
      "3        1\n",
      "4        9\n",
      "        ..\n",
      "69995    2\n",
      "69996    3\n",
      "69997    4\n",
      "69998    5\n",
      "69999    6\n",
      "Name: class, Length: 70000, dtype: category\n",
      "Categories (10, object): ['0', '1', '2', '3', ..., '6', '7', '8', '9']\n",
      "====================\n",
      "y=5 0         True\n",
      "1        False\n",
      "2        False\n",
      "3        False\n",
      "4        False\n",
      "         ...  \n",
      "69995    False\n",
      "69996    False\n",
      "69997    False\n",
      "69998     True\n",
      "69999    False\n",
      "Name: class, Length: 70000, dtype: bool\n"
     ]
    }
   ],
   "source": [
    "from sklearn.datasets import fetch_openml\n",
    "from sklearn.linear_model import SGDClassifier\n",
    "\n",
    "# Get the training data\n",
    "mnist = fetch_openml('mnist_784')\n",
    "X, y = mnist[\"data\"], mnist[\"target\"]\n",
    "\n",
    "print(\"info\", mnist.frame.info())\n",
    "print(\"====================\")\n",
    "print(\"X\", X)\n",
    "print(\"====================\")\n",
    "print(\"y\", y)\n",
    "print(\"====================\")\n",
    "print(\"y=5\", y==\"5\")"
   ]
  },
  {
   "cell_type": "code",
   "execution_count": 11,
   "id": "a0bbd292-2c2e-4801-a6bc-0a95a912f326",
   "metadata": {},
   "outputs": [
    {
     "name": "stdout",
     "output_type": "stream",
     "text": [
      "[ True]\n"
     ]
    },
    {
     "name": "stderr",
     "output_type": "stream",
     "text": [
      "/Users/alexanderlopez/.local/share/virtualenvs/hands-on-machine-learning-YnWdDazd/lib/python3.13/site-packages/sklearn/utils/validation.py:2739: UserWarning: X does not have valid feature names, but SGDClassifier was fitted with feature names\n",
      "  warnings.warn(\n"
     ]
    }
   ],
   "source": [
    "# Classifier Example with a 5\n",
    "from sklearn.datasets import fetch_openml\n",
    "from sklearn.linear_model import SGDClassifier\n",
    "\n",
    "# Get the training data\n",
    "mnist = fetch_openml('mnist_784')\n",
    "X, y = mnist[\"data\"], mnist[\"target\"]\n",
    "\n",
    "# Separate the training set and the test set\n",
    "X_train, X_test, y_train, y_test = X[:60000], X[60000:], y[:60000], y[60000:]\n",
    "\n",
    "# create the target vectors for this classification task\n",
    "y_train_5 = (y_train == \"5\")\n",
    "y_test_5 = (y_test == \"5\")\n",
    "\n",
    "# build classifier\n",
    "sgd_clf = SGDClassifier(random_state=42)\n",
    "sgd_clf.fit(X_train, y_train_5)\n",
    "\n",
    "# the num 9 - as demonstrated above\n",
    "some_digit = X.iloc[69998].to_numpy()\n",
    "\n",
    "print(sgd_clf.predict([some_digit]))"
   ]
  },
  {
   "cell_type": "code",
   "execution_count": null,
   "id": "c7042b2f-e0e0-409e-91d9-a3fbb9f0b505",
   "metadata": {},
   "outputs": [],
   "source": [
    "Evaluating Performance Measures\n",
    "\n",
    "1) Measuring Accuracy using Cross Validation\n",
    "- use the cross_val_score() function to evaluate your SGDClassifier model using K-fold cross-validation\n",
    "- K-fold crossvalidation means splitting the training set into K-folds (in this case, three), then making predictions\n",
    "and evaluating them on each fold using a model trained on the remaining folds\n",
    "\n",
    "Definition:\n",
    "Cross validation is a technique used in machine learning to evaluate the performance of a model on unseen data.\n",
    "It involves dividing the available data into multiple folds or subsets, using one of these folds as a validation set,\n",
    "and training the model on the remaining folds. \n",
    "(Reference: https://scikit-learn.org/stable/modules/cross_validation.html#cross-validation)\n",
    "\n",
    "Purpose of Cross Validation:\n",
    "Overfitting -  a model that would just repeat the labels of the samples that it has just seen would\n",
    "have a perfect score but would fail to predict anything useful on yet-unseen data. \n",
    "(Reference: https://scikit-learn.org/stable/modules/cross_validation.html#cross-validation)\n",
    "\n",
    "Types of Cross Validation:\n",
    "There are several types of cross validation techniques, including k-fold cross validation.\n",
    "(Reference: https://www.geeksforgeeks.org/cross-validation-machine-learning/)"
   ]
  },
  {
   "cell_type": "code",
   "execution_count": 2,
   "id": "ef165a85-1074-4ccc-bc35-b3884c320a9a",
   "metadata": {},
   "outputs": [
    {
     "name": "stdout",
     "output_type": "stream",
     "text": [
      "[0.95035 0.96035 0.9604 ]\n"
     ]
    }
   ],
   "source": [
    "from sklearn.datasets import fetch_openml\n",
    "from sklearn.linear_model import SGDClassifier\n",
    "\n",
    "# new import\n",
    "from sklearn.model_selection import cross_val_score\n",
    "\n",
    "# Get the training data\n",
    "mnist = fetch_openml('mnist_784')\n",
    "X, y = mnist[\"data\"], mnist[\"target\"]\n",
    "\n",
    "# Separate the training set and the test set\n",
    "X_train, X_test, y_train, y_test = X[:60000], X[60000:], y[:60000], y[60000:]\n",
    "\n",
    "# create the target vectors for this classification task\n",
    "y_train_5 = (y_train == \"5\")\n",
    "y_test_5 = (y_test == \"5\")\n",
    "\n",
    "# build classifier\n",
    "sgd_clf = SGDClassifier(random_state=42)\n",
    "sgd_clf.fit(X_train, y_train_5)\n",
    "\n",
    "# evaluate\n",
    "print(cross_val_score(sgd_clf, X_train, y_train_5, cv=3, scoring=\"accuracy\")) # returns above 95"
   ]
  },
  {
   "cell_type": "code",
   "execution_count": 6,
   "id": "24a2d68b-405b-45c2-9b3c-54a208ae32d7",
   "metadata": {},
   "outputs": [
    {
     "name": "stdout",
     "output_type": "stream",
     "text": [
      "[0.91125 0.90855 0.90915]\n"
     ]
    }
   ],
   "source": [
    "from sklearn.datasets import fetch_openml\n",
    "from sklearn.linear_model import SGDClassifier\n",
    "from sklearn.model_selection import cross_val_score\n",
    "import numpy as np\n",
    "\n",
    "# new import\n",
    "from sklearn.base import BaseEstimator\n",
    "\n",
    "# Get the training data\n",
    "mnist = fetch_openml('mnist_784')\n",
    "X, y = mnist[\"data\"], mnist[\"target\"]\n",
    "\n",
    "# Separate the training set and the test set\n",
    "X_train, X_test, y_train, y_test = X[:60000], X[60000:], y[:60000], y[60000:]\n",
    "\n",
    "# create the target vectors for this classification task\n",
    "y_train_5 = (y_train == \"5\")\n",
    "y_test_5 = (y_test == \"5\")\n",
    "\n",
    "class Never5Classifier(BaseEstimator):\n",
    "    def fit(self, X, y=None):\n",
    "        pass\n",
    "    def predict(self, X):\n",
    "        return np.zeros((len(X), 1), dtype=bool)\n",
    "\n",
    "never_5_clf = Never5Classifier()\n",
    "print(cross_val_score(never_5_clf, X_train, y_train_5, cv=3, scoring=\"accuracy\"))"
   ]
  },
  {
   "cell_type": "code",
   "execution_count": null,
   "id": "e55e101f-6f94-4dc3-81a5-2d67f5564bf2",
   "metadata": {},
   "outputs": [],
   "source": [
    "That’s right, it has over 90% accuracy! This is simply because only about 10% of the\n",
    "images are 5s, so if you always guess that an image is not a 5, you will be right about\n",
    "90% of the time.\n",
    "\n",
    "Demonstrates why accuracy is not the preferred performance measure"
   ]
  },
  {
   "cell_type": "code",
   "execution_count": null,
   "id": "04145fcd-17de-4064-ac1b-700365da14fd",
   "metadata": {},
   "outputs": [],
   "source": [
    "Evaluating Performance Measures\n",
    "\n",
    "2) Confusion Matrix\n",
    "- better way to evaluate classifiers\n",
    "- count the number of times instances of class A are classified as class B.\n",
    "\n",
    "To compute the confusion matrix, you first need to have a set of predictions, so they\n",
    "can be compared to the actual targets.\n",
    "\n",
    "NOTE: Use the test set only at the very end of your project, once you have a classifier that you are ready to launch."
   ]
  },
  {
   "cell_type": "code",
   "execution_count": 8,
   "id": "3ba90986-24c1-451d-b5f2-4111c8396908",
   "metadata": {},
   "outputs": [
    {
     "name": "stdout",
     "output_type": "stream",
     "text": [
      "[[53892   687]\n",
      " [ 1891  3530]]\n"
     ]
    }
   ],
   "source": [
    "from sklearn.datasets import fetch_openml\n",
    "from sklearn.linear_model import SGDClassifier\n",
    "from sklearn.model_selection import cross_val_score\n",
    "\n",
    "# new imports\n",
    "from sklearn.model_selection import cross_val_predict\n",
    "from sklearn.metrics import confusion_matrix\n",
    "\n",
    "# Get the training data\n",
    "mnist = fetch_openml('mnist_784')\n",
    "X, y = mnist[\"data\"], mnist[\"target\"]\n",
    "\n",
    "# Separate the training set and the test set\n",
    "X_train, X_test, y_train, y_test = X[:60000], X[60000:], y[:60000], y[60000:]\n",
    "\n",
    "# create the target vectors for this classification task\n",
    "y_train_5 = (y_train == \"5\")\n",
    "y_test_5 = (y_test == \"5\")\n",
    "\n",
    "# build classifier\n",
    "sgd_clf = SGDClassifier(random_state=42)\n",
    "sgd_clf.fit(X_train, y_train_5)\n",
    "\n",
    "# cross val prediction\n",
    "y_train_pred = cross_val_predict(sgd_clf, X_train, y_train_5, cv=3)\n",
    "\n",
    "# confusion matrix\n",
    "print(confusion_matrix(y_train_5, y_train_pred))"
   ]
  },
  {
   "cell_type": "code",
   "execution_count": null,
   "id": "b25e6cc3-6b7f-4d64-91f1-56dfe9ea23d2",
   "metadata": {},
   "outputs": [],
   "source": [
    "[[53892   687]\n",
    " [ 1891  3530]]\n",
    "\n",
    "Explain the output above.\n",
    "- 1: 53000+ NON-5 correctly classified, 600+ NON-5 incorrectly classified\n",
    "- 2: 1000+ 5s incorrectly classified, 3000+ 5s correctly classified"
   ]
  },
  {
   "cell_type": "code",
   "execution_count": null,
   "id": "aff472a7-93cf-4319-a56f-cdc430e26899",
   "metadata": {},
   "outputs": [],
   "source": [
    "Evaluating Performance Measures\n",
    "\n",
    "3) Precision and Recall\n",
    "\n",
    "Precision:\n",
    "- Focuses on the correctness of positive predictions. \n",
    "- Calculated \"True Positives\" divided by \"True Positives + False Positives\"\n",
    "- High precision means the model rarely incorrectly classifies something as\n",
    "positive when it's actually negative. \n",
    "\n",
    "Recall:\n",
    "- Focuses on the completeness of identifying all relevant positive cases. \n",
    "- Calculated \"True Positives\" divided by \"True Positives + False Negatives\"\n",
    "- High recall means the model effectively identifies most of the actual positive cases in the data. "
   ]
  },
  {
   "cell_type": "code",
   "execution_count": 12,
   "id": "d90e5929-fcca-4ad8-8197-f5f28ac30384",
   "metadata": {},
   "outputs": [
    {
     "name": "stdout",
     "output_type": "stream",
     "text": [
      "0.8370879772350012\n",
      "0.6511713705958311\n"
     ]
    }
   ],
   "source": [
    "from sklearn.datasets import fetch_openml\n",
    "from sklearn.linear_model import SGDClassifier\n",
    "from sklearn.model_selection import cross_val_score\n",
    "from sklearn.model_selection import cross_val_predict\n",
    "\n",
    "# new import\n",
    "from sklearn.metrics import precision_score, recall_score\n",
    "\n",
    "# Get the training data\n",
    "mnist = fetch_openml('mnist_784')\n",
    "X, y = mnist[\"data\"], mnist[\"target\"]\n",
    "\n",
    "# Separate the training set and the test set\n",
    "X_train, X_test, y_train, y_test = X[:60000], X[60000:], y[:60000], y[60000:]\n",
    "\n",
    "# create the target vectors for this classification task\n",
    "y_train_5 = (y_train == \"5\")\n",
    "y_test_5 = (y_test == \"5\")\n",
    "\n",
    "# build classifier\n",
    "sgd_clf = SGDClassifier(random_state=42)\n",
    "sgd_clf.fit(X_train, y_train_5)\n",
    "\n",
    "# cross val prediction\n",
    "y_train_pred = cross_val_predict(sgd_clf, X_train, y_train_5, cv=3)\n",
    "\n",
    "# precision score\n",
    "print(precision_score(y_train_5, y_train_pred))\n",
    "\n",
    "# recall score\n",
    "print(recall_score(y_train_5, y_train_pred))"
   ]
  },
  {
   "cell_type": "code",
   "execution_count": null,
   "id": "8a418418-ef1a-4b75-a254-6fc22d2b31c7",
   "metadata": {},
   "outputs": [],
   "source": [
    "Precision and Recall Tradeoff\n",
    "- Inverse relationship\n",
    "- Increasing recall reduces precision"
   ]
  },
  {
   "cell_type": "code",
   "execution_count": null,
   "id": "58f6d275-d9f7-42f0-a2b3-9450314b632b",
   "metadata": {},
   "outputs": [],
   "source": [
    "Skipped The ROC Curve / Return"
   ]
  },
  {
   "cell_type": "code",
   "execution_count": null,
   "id": "4a875040-870e-4393-bfbb-e54355547137",
   "metadata": {},
   "outputs": [],
   "source": [
    "MultiClass Classification\n",
    "- Can distinguish between more than two classes\n",
    "\n",
    "Certain algorithms are better depending on the classification type.\n",
    "- Random Forest classifiers or naive Bayes classifiers: Can handle multi-class classification\n",
    "- Support Vector Machine classifiers or Linear classifiers: Strictly for binary classfication\n",
    "\n",
    "one-versus-all (OvA) strategy (also called one-versus-the-rest): train a classifier for each instance\n",
    "- e.g. 10 binary classfiers to detect the images ranging from 1 to 10\n",
    "\n",
    "one-versus-one (OvO) strategy: e.g. binary classifier for every pair of digits\n",
    "\n",
    "Scikit-Learn detects when you try to use a binary classification algorithm for a multiclass\n",
    "classification task, and it automatically runs OvA (except for SVM classifiers for\n",
    "which it uses OvO). Let’s try this with the SGDClassifier:"
   ]
  },
  {
   "cell_type": "code",
   "execution_count": 2,
   "id": "7d5cfa0f-706f-47f3-b664-a265e900dd50",
   "metadata": {},
   "outputs": [
    {
     "name": "stdout",
     "output_type": "stream",
     "text": [
      "['5']\n",
      "['6']\n"
     ]
    },
    {
     "name": "stderr",
     "output_type": "stream",
     "text": [
      "/Users/alexanderlopez/.local/share/virtualenvs/hands-on-machine-learning-YnWdDazd/lib/python3.13/site-packages/sklearn/utils/validation.py:2739: UserWarning: X does not have valid feature names, but SGDClassifier was fitted with feature names\n",
      "  warnings.warn(\n",
      "/Users/alexanderlopez/.local/share/virtualenvs/hands-on-machine-learning-YnWdDazd/lib/python3.13/site-packages/sklearn/utils/validation.py:2739: UserWarning: X does not have valid feature names, but SGDClassifier was fitted with feature names\n",
      "  warnings.warn(\n"
     ]
    }
   ],
   "source": [
    "from sklearn.datasets import fetch_openml\n",
    "from sklearn.linear_model import SGDClassifier\n",
    "\n",
    "# Get the training data\n",
    "mnist = fetch_openml('mnist_784')\n",
    "X, y = mnist[\"data\"], mnist[\"target\"]\n",
    "\n",
    "# Separate the training set and the test set\n",
    "X_train, X_test, y_train, y_test = X[:60000], X[60000:], y[:60000], y[60000:]\n",
    "\n",
    "# build classifier without separate binary classfiers\n",
    "sgd_clf = SGDClassifier(random_state=42)\n",
    "sgd_clf.fit(X_train, y_train)\n",
    "\n",
    "# the num 5 - as demonstrated above\n",
    "some_digit = X.iloc[69998].to_numpy()\n",
    "print(sgd_clf.predict([some_digit]))\n",
    "\n",
    "# the num 6\n",
    "some_digit = X.iloc[69999].to_numpy()\n",
    "print(sgd_clf.predict([some_digit]))"
   ]
  },
  {
   "cell_type": "code",
   "execution_count": null,
   "id": "bf283da4-7a33-42ef-93e2-a23ef84c0721",
   "metadata": {},
   "outputs": [],
   "source": [
    "Under the hood, Scikit-Learn actually trained 10 binary classifiers, got their decision scores for the\n",
    "image, and selected the class with the highest score."
   ]
  },
  {
   "cell_type": "code",
   "execution_count": 4,
   "id": "a95eab12-d707-44ff-bcd0-af2e6837e262",
   "metadata": {},
   "outputs": [
    {
     "name": "stdout",
     "output_type": "stream",
     "text": [
      "['5']\n",
      "[[-61828.33514147 -28264.56446025 -18262.00907032 -18922.18511348\n",
      "  -10459.98795726   7095.59965625 -26916.84602778 -14768.41036637\n",
      "    -393.29993162 -17060.58675674]]\n",
      "5\n"
     ]
    },
    {
     "name": "stderr",
     "output_type": "stream",
     "text": [
      "/Users/alexanderlopez/.local/share/virtualenvs/hands-on-machine-learning-YnWdDazd/lib/python3.13/site-packages/sklearn/utils/validation.py:2739: UserWarning: X does not have valid feature names, but SGDClassifier was fitted with feature names\n",
      "  warnings.warn(\n",
      "/Users/alexanderlopez/.local/share/virtualenvs/hands-on-machine-learning-YnWdDazd/lib/python3.13/site-packages/sklearn/utils/validation.py:2739: UserWarning: X does not have valid feature names, but SGDClassifier was fitted with feature names\n",
      "  warnings.warn(\n"
     ]
    }
   ],
   "source": [
    "from sklearn.datasets import fetch_openml\n",
    "from sklearn.linear_model import SGDClassifier\n",
    "\n",
    "# new import\n",
    "import numpy as np\n",
    "\n",
    "# Get the training data\n",
    "mnist = fetch_openml('mnist_784')\n",
    "X, y = mnist[\"data\"], mnist[\"target\"]\n",
    "\n",
    "# Separate the training set and the test set\n",
    "X_train, X_test, y_train, y_test = X[:60000], X[60000:], y[:60000], y[60000:]\n",
    "\n",
    "# build classifier without separate binary classfiers\n",
    "sgd_clf = SGDClassifier(random_state=42)\n",
    "sgd_clf.fit(X_train, y_train)\n",
    "\n",
    "# the num 5 - as demonstrated above\n",
    "some_digit = X.iloc[69998].to_numpy()\n",
    "print(sgd_clf.predict([some_digit]))\n",
    "\n",
    "# view the decision tree\n",
    "decision_score = sgd_clf.decision_function([some_digit])\n",
    "print(decision_score)\n",
    "print(np.argmax(decision_score))"
   ]
  },
  {
   "cell_type": "code",
   "execution_count": 8,
   "id": "0a8f28c9-6d56-4c08-afc7-56e764d37364",
   "metadata": {},
   "outputs": [
    {
     "name": "stdout",
     "output_type": "stream",
     "text": [
      "['5']\n",
      "45\n"
     ]
    },
    {
     "name": "stderr",
     "output_type": "stream",
     "text": [
      "/Users/alexanderlopez/.local/share/virtualenvs/hands-on-machine-learning-YnWdDazd/lib/python3.13/site-packages/sklearn/utils/validation.py:2739: UserWarning: X does not have valid feature names, but OneVsOneClassifier was fitted with feature names\n",
      "  warnings.warn(\n"
     ]
    }
   ],
   "source": [
    "# OneVsOneClassifier\n",
    "from sklearn.datasets import fetch_openml\n",
    "from sklearn.linear_model import SGDClassifier\n",
    "\n",
    "# new import\n",
    "from sklearn.multiclass import OneVsOneClassifier\n",
    "\n",
    "# Get the training data\n",
    "mnist = fetch_openml('mnist_784')\n",
    "X, y = mnist[\"data\"], mnist[\"target\"]\n",
    "\n",
    "# Separate the training set and the test set\n",
    "X_train, X_test, y_train, y_test = X[:60000], X[60000:], y[:60000], y[60000:]\n",
    "\n",
    "# the num 5 - as demonstrated above\n",
    "some_digit = X.iloc[69998].to_numpy()\n",
    "\n",
    "# build sgd classifier\n",
    "sgd_clf = SGDClassifier(random_state=42)\n",
    "\n",
    "# build one vs one classifier\n",
    "ovo_clf = OneVsOneClassifier(sgd_clf)\n",
    "\n",
    "# fit and predict\n",
    "ovo_clf.fit(X_train, y_train)\n",
    "print(ovo_clf.predict([some_digit]))\n",
    "print(len(ovo_clf.estimators_))"
   ]
  },
  {
   "cell_type": "code",
   "execution_count": 6,
   "id": "1ac0334a-1a54-43ff-ae67-5494c2468d0c",
   "metadata": {},
   "outputs": [
    {
     "name": "stdout",
     "output_type": "stream",
     "text": [
      "['5']\n",
      "['6']\n",
      "[[0.02 0.   0.03 0.04 0.01 0.68 0.05 0.   0.16 0.01]]\n",
      "[[0.   0.   0.   0.   0.   0.01 0.97 0.   0.01 0.01]]\n"
     ]
    },
    {
     "name": "stderr",
     "output_type": "stream",
     "text": [
      "/Users/alexanderlopez/.local/share/virtualenvs/hands-on-machine-learning-YnWdDazd/lib/python3.13/site-packages/sklearn/utils/validation.py:2739: UserWarning: X does not have valid feature names, but RandomForestClassifier was fitted with feature names\n",
      "  warnings.warn(\n",
      "/Users/alexanderlopez/.local/share/virtualenvs/hands-on-machine-learning-YnWdDazd/lib/python3.13/site-packages/sklearn/utils/validation.py:2739: UserWarning: X does not have valid feature names, but RandomForestClassifier was fitted with feature names\n",
      "  warnings.warn(\n",
      "/Users/alexanderlopez/.local/share/virtualenvs/hands-on-machine-learning-YnWdDazd/lib/python3.13/site-packages/sklearn/utils/validation.py:2739: UserWarning: X does not have valid feature names, but RandomForestClassifier was fitted with feature names\n",
      "  warnings.warn(\n",
      "/Users/alexanderlopez/.local/share/virtualenvs/hands-on-machine-learning-YnWdDazd/lib/python3.13/site-packages/sklearn/utils/validation.py:2739: UserWarning: X does not have valid feature names, but RandomForestClassifier was fitted with feature names\n",
      "  warnings.warn(\n"
     ]
    }
   ],
   "source": [
    "# Random Forest Classifier\n",
    "from sklearn.datasets import fetch_openml\n",
    "from sklearn.linear_model import SGDClassifier\n",
    "\n",
    "# new import\n",
    "from sklearn.ensemble import RandomForestClassifier\n",
    "\n",
    "# Get the training data\n",
    "mnist = fetch_openml('mnist_784')\n",
    "X, y = mnist[\"data\"], mnist[\"target\"]\n",
    "\n",
    "# Separate the training set and the test set\n",
    "X_train, X_test, y_train, y_test = X[:60000], X[60000:], y[:60000], y[60000:]\n",
    "\n",
    "# the num 5 - as demonstrated above\n",
    "some_digit = X.iloc[69998].to_numpy()\n",
    "\n",
    "# the num 6 - as demonstarted above\n",
    "some_digit_2 = X.iloc[69999].to_numpy()\n",
    "\n",
    "# build sgd classifier\n",
    "sgd_clf = SGDClassifier(random_state=42)\n",
    "\n",
    "# build random forest classifier\n",
    "forest_clf = RandomForestClassifier(random_state=42)\n",
    "# Reference: https://scikit-learn.org/1.5/modules/generated/sklearn.ensemble.RandomForestClassifier.html\n",
    "\n",
    "# fit and predict\n",
    "forest_clf.fit(X_train, y_train)\n",
    "print(forest_clf.predict([some_digit]))\n",
    "print(forest_clf.predict([some_digit_2]))\n",
    "\n",
    "# predict probability\n",
    "print(forest_clf.predict_proba([some_digit]))\n",
    "print(forest_clf.predict_proba([some_digit_2]))"
   ]
  },
  {
   "cell_type": "code",
   "execution_count": null,
   "id": "c15ed727-2e1a-4c53-9fae-1ae3648cce4a",
   "metadata": {},
   "outputs": [],
   "source": [
    "Random Forest classifiers can directly classify instances into multiple classes. You can call\n",
    "predict_proba() to get the list of probabilities that the classifier assigned to each\n",
    "instance for each class. "
   ]
  },
  {
   "cell_type": "code",
   "execution_count": null,
   "id": "2913a0c2-b547-4fd6-a545-21fa678319d8",
   "metadata": {},
   "outputs": [],
   "source": [
    "Accuracy increases as input scales."
   ]
  },
  {
   "cell_type": "code",
   "execution_count": null,
   "id": "8e3d6f7d-8a55-42c0-abd2-8ad835762420",
   "metadata": {},
   "outputs": [],
   "source": [
    "SGD will achieve a greater accuracy score than random forest, as proven by cross_val_score. "
   ]
  },
  {
   "cell_type": "code",
   "execution_count": null,
   "id": "186b4ade-d808-4c6d-842e-c2d02745ebb9",
   "metadata": {},
   "outputs": [],
   "source": [
    "Error Analysis - Analyzing the types of errors a model can make\n",
    "\n",
    "Method 1: Using cross_val_predict and a confusion matrix\n",
    "\n",
    "DEFINITION REMINDERS:\n",
    "Confusion Matrix\n",
    "- better way to evaluate classifiers\n",
    "- count the number of times instances of class A are classified as class B.\n",
    "\n",
    "To compute the confusion matrix, you first need to have a set of predictions, so they\n",
    "can be compared to the actual targets."
   ]
  },
  {
   "cell_type": "code",
   "execution_count": 7,
   "id": "f705f4ad-f406-4cf4-a206-c4af0e0aa0f7",
   "metadata": {},
   "outputs": [
    {
     "ename": "NameError",
     "evalue": "name 'cross_val_score' is not defined",
     "output_type": "error",
     "traceback": [
      "\u001b[0;31m---------------------------------------------------------------------------\u001b[0m",
      "\u001b[0;31mNameError\u001b[0m                                 Traceback (most recent call last)",
      "Cell \u001b[0;32mIn[7], line 24\u001b[0m\n\u001b[1;32m     22\u001b[0m scaler \u001b[38;5;241m=\u001b[39m StandardScaler()\n\u001b[1;32m     23\u001b[0m X_train_scaled \u001b[38;5;241m=\u001b[39m scaler\u001b[38;5;241m.\u001b[39mfit_transform(X_train\u001b[38;5;241m.\u001b[39mastype(np\u001b[38;5;241m.\u001b[39mfloat64))\n\u001b[0;32m---> 24\u001b[0m \u001b[38;5;28mprint\u001b[39m(\u001b[43mcross_val_score\u001b[49m(sgd_clf, X_train_scaled, y_train, cv\u001b[38;5;241m=\u001b[39m\u001b[38;5;241m3\u001b[39m, scoring\u001b[38;5;241m=\u001b[39m\u001b[38;5;124m\"\u001b[39m\u001b[38;5;124maccuracy\u001b[39m\u001b[38;5;124m\"\u001b[39m))\n",
      "\u001b[0;31mNameError\u001b[0m: name 'cross_val_score' is not defined"
     ]
    }
   ],
   "source": [
    "from sklearn.datasets import fetch_openml\n",
    "from sklearn.linear_model import SGDClassifier\n",
    "from sklearn.model_selection import cross_val_score\n",
    "import numpy as np\n",
    "\n",
    "# new imports\n",
    "from sklearn.preprocessing import StandardScaler\n",
    "\n",
    "# Get the training data\n",
    "mnist = fetch_openml('mnist_784')\n",
    "X, y = mnist[\"data\"], mnist[\"target\"]\n",
    "\n",
    "# Separate the training set and the test set\n",
    "X_train, X_test, y_train, y_test = X[:60000], X[60000:], y[:60000], y[60000:]\n",
    "\n",
    "# Build the classifier\n",
    "sgd_clf = SGDClassifier(random_state=42)\n",
    "\n",
    "# Scale the data set\n",
    "# StandardScaler: Standardize features by removing the mean and scaling to unit variance.\n",
    "# Reference:\n",
    "# https://scikit-learn.org/stable/modules/generated/sklearn.preprocessing.StandardScaler.html\n",
    "scaler = StandardScaler()\n",
    "X_train_scaled = scaler.fit_transform(X_train.astype(np.float64))\n",
    "print(cross_val_score(sgd_clf, X_train_scaled, y_train, cv=3, scoring=\"accuracy\"))"
   ]
  },
  {
   "cell_type": "code",
   "execution_count": null,
   "id": "b1d28837-4656-439d-a613-bacd1cc0dcac",
   "metadata": {},
   "outputs": [],
   "source": []
  }
 ],
 "metadata": {
  "kernelspec": {
   "display_name": "Python 3 (ipykernel)",
   "language": "python",
   "name": "python3"
  },
  "language_info": {
   "codemirror_mode": {
    "name": "ipython",
    "version": 3
   },
   "file_extension": ".py",
   "mimetype": "text/x-python",
   "name": "python",
   "nbconvert_exporter": "python",
   "pygments_lexer": "ipython3",
   "version": "3.13.0"
  }
 },
 "nbformat": 4,
 "nbformat_minor": 5
}
